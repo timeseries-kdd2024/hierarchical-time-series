{
 "cells": [
  {
   "cell_type": "code",
   "execution_count": 6,
   "metadata": {},
   "outputs": [],
   "source": [
    "import pandas as pd\n",
    "import numpy as np\n",
    "from collections import defaultdict\n",
    "from matplotlib import pyplot as plt\n",
    "import random\n",
    "import os\n",
    "import gc \n",
    "\n",
    "import torch\n",
    "import torch.nn as nn\n",
    "import torch.nn.functional as F\n",
    "\n",
    "from sklearn import preprocessing\n",
    "from torch.utils.data import Dataset, DataLoader"
   ]
  },
  {
   "cell_type": "code",
   "execution_count": 2,
   "metadata": {},
   "outputs": [],
   "source": [
    "def print_memory(): \n",
    "    t = torch.cuda.get_device_properties(0).total_memory\n",
    "    r = torch.cuda.memory_reserved(0)\n",
    "    a = torch.cuda.memory_allocated(0)\n",
    "    print(t, r, a)"
   ]
  },
  {
   "cell_type": "code",
   "execution_count": 3,
   "metadata": {},
   "outputs": [
    {
     "ename": "RuntimeError",
     "evalue": "Found no NVIDIA driver on your system. Please check that you have an NVIDIA GPU and installed a driver from http://www.nvidia.com/Download/index.aspx",
     "output_type": "error",
     "traceback": [
      "\u001b[0;31m---------------------------------------------------------------------------\u001b[0m",
      "\u001b[0;31mRuntimeError\u001b[0m                              Traceback (most recent call last)",
      "Cell \u001b[0;32mIn[3], line 1\u001b[0m\n\u001b[0;32m----> 1\u001b[0m \u001b[43mprint_memory\u001b[49m\u001b[43m(\u001b[49m\u001b[43m)\u001b[49m\n",
      "Cell \u001b[0;32mIn[2], line 2\u001b[0m, in \u001b[0;36mprint_memory\u001b[0;34m()\u001b[0m\n\u001b[1;32m      1\u001b[0m \u001b[38;5;28;01mdef\u001b[39;00m \u001b[38;5;21mprint_memory\u001b[39m(): \n\u001b[0;32m----> 2\u001b[0m     t \u001b[38;5;241m=\u001b[39m \u001b[43mtorch\u001b[49m\u001b[38;5;241;43m.\u001b[39;49m\u001b[43mcuda\u001b[49m\u001b[38;5;241;43m.\u001b[39;49m\u001b[43mget_device_properties\u001b[49m\u001b[43m(\u001b[49m\u001b[38;5;241;43m0\u001b[39;49m\u001b[43m)\u001b[49m\u001b[38;5;241m.\u001b[39mtotal_memory\n\u001b[1;32m      3\u001b[0m     r \u001b[38;5;241m=\u001b[39m torch\u001b[38;5;241m.\u001b[39mcuda\u001b[38;5;241m.\u001b[39mmemory_reserved(\u001b[38;5;241m0\u001b[39m)\n\u001b[1;32m      4\u001b[0m     a \u001b[38;5;241m=\u001b[39m torch\u001b[38;5;241m.\u001b[39mcuda\u001b[38;5;241m.\u001b[39mmemory_allocated(\u001b[38;5;241m0\u001b[39m)\n",
      "File \u001b[0;32m/state/partition1/llgrid/pkg/anaconda/anaconda3-2022b/lib/python3.8/site-packages/torch/cuda/__init__.py:359\u001b[0m, in \u001b[0;36mget_device_properties\u001b[0;34m(device)\u001b[0m\n\u001b[1;32m    349\u001b[0m \u001b[38;5;28;01mdef\u001b[39;00m \u001b[38;5;21mget_device_properties\u001b[39m(device: _device_t) \u001b[38;5;241m-\u001b[39m\u001b[38;5;241m>\u001b[39m _CudaDeviceProperties:\n\u001b[1;32m    350\u001b[0m     \u001b[38;5;124mr\u001b[39m\u001b[38;5;124;03m\"\"\"Gets the properties of a device.\u001b[39;00m\n\u001b[1;32m    351\u001b[0m \n\u001b[1;32m    352\u001b[0m \u001b[38;5;124;03m    Args:\u001b[39;00m\n\u001b[0;32m   (...)\u001b[0m\n\u001b[1;32m    357\u001b[0m \u001b[38;5;124;03m        _CudaDeviceProperties: the properties of the device\u001b[39;00m\n\u001b[1;32m    358\u001b[0m \u001b[38;5;124;03m    \"\"\"\u001b[39;00m\n\u001b[0;32m--> 359\u001b[0m     \u001b[43m_lazy_init\u001b[49m\u001b[43m(\u001b[49m\u001b[43m)\u001b[49m  \u001b[38;5;66;03m# will define _get_device_properties\u001b[39;00m\n\u001b[1;32m    360\u001b[0m     device \u001b[38;5;241m=\u001b[39m _get_device_index(device, optional\u001b[38;5;241m=\u001b[39m\u001b[38;5;28;01mTrue\u001b[39;00m)\n\u001b[1;32m    361\u001b[0m     \u001b[38;5;28;01mif\u001b[39;00m device \u001b[38;5;241m<\u001b[39m \u001b[38;5;241m0\u001b[39m \u001b[38;5;129;01mor\u001b[39;00m device \u001b[38;5;241m>\u001b[39m\u001b[38;5;241m=\u001b[39m device_count():\n",
      "File \u001b[0;32m/state/partition1/llgrid/pkg/anaconda/anaconda3-2022b/lib/python3.8/site-packages/torch/cuda/__init__.py:217\u001b[0m, in \u001b[0;36m_lazy_init\u001b[0;34m()\u001b[0m\n\u001b[1;32m    213\u001b[0m     \u001b[38;5;28;01mraise\u001b[39;00m \u001b[38;5;167;01mAssertionError\u001b[39;00m(\n\u001b[1;32m    214\u001b[0m         \u001b[38;5;124m\"\u001b[39m\u001b[38;5;124mlibcudart functions unavailable. It looks like you have a broken build?\u001b[39m\u001b[38;5;124m\"\u001b[39m)\n\u001b[1;32m    215\u001b[0m \u001b[38;5;66;03m# This function throws if there's a driver initialization error, no GPUs\u001b[39;00m\n\u001b[1;32m    216\u001b[0m \u001b[38;5;66;03m# are found or any other error occurs\u001b[39;00m\n\u001b[0;32m--> 217\u001b[0m \u001b[43mtorch\u001b[49m\u001b[38;5;241;43m.\u001b[39;49m\u001b[43m_C\u001b[49m\u001b[38;5;241;43m.\u001b[39;49m\u001b[43m_cuda_init\u001b[49m\u001b[43m(\u001b[49m\u001b[43m)\u001b[49m\n\u001b[1;32m    218\u001b[0m \u001b[38;5;66;03m# Some of the queued calls may reentrantly call _lazy_init();\u001b[39;00m\n\u001b[1;32m    219\u001b[0m \u001b[38;5;66;03m# we need to just return without initializing in that case.\u001b[39;00m\n\u001b[1;32m    220\u001b[0m \u001b[38;5;66;03m# However, we must not let any *other* threads in!\u001b[39;00m\n\u001b[1;32m    221\u001b[0m _tls\u001b[38;5;241m.\u001b[39mis_initializing \u001b[38;5;241m=\u001b[39m \u001b[38;5;28;01mTrue\u001b[39;00m\n",
      "\u001b[0;31mRuntimeError\u001b[0m: Found no NVIDIA driver on your system. Please check that you have an NVIDIA GPU and installed a driver from http://www.nvidia.com/Download/index.aspx"
     ]
    }
   ],
   "source": [
    "print_memory()"
   ]
  },
  {
   "cell_type": "code",
   "execution_count": 7,
   "metadata": {},
   "outputs": [],
   "source": [
    "sales_train_evaluation = pd.read_csv('sales_train_evaluation.csv')"
   ]
  },
  {
   "cell_type": "code",
   "execution_count": 8,
   "metadata": {},
   "outputs": [],
   "source": [
    "def create_aggregated_dataframe(sales_train_evaluation):\n",
    "    # Columns to aggregate are d_1 to d_1942\n",
    "    cols_to_agg = [f'd_{i}' for i in range(1, 1942)]\n",
    "\n",
    "    # defines how we are grouping \n",
    "    group_cols = [\n",
    "        ['state_id'],\n",
    "        ['store_id'],\n",
    "        ['cat_id'],\n",
    "        ['dept_id'],\n",
    "        ['state_id', 'cat_id'],\n",
    "        ['state_id', 'dept_id'],\n",
    "        ['store_id', 'cat_id'],\n",
    "        ['store_id', 'dept_id'],\n",
    "        ['item_id'],\n",
    "        ['item_id', 'state_id']\n",
    "    ]\n",
    "    \n",
    "    # Create a copy of the original DataFrame to start aggregating into\n",
    "    aggregated_df = sales_train_evaluation.copy()\n",
    "    aggregated_df['Hierarchy Level'] = len(group_cols)  # Set NaN for original data\n",
    "\n",
    "    # Store the indices of the original rows\n",
    "    original_indices = np.arange(len(aggregated_df))\n",
    "\n",
    "    # Perform aggregation and append to the original DataFrame\n",
    "    hierarchy_level = 0\n",
    "    appended_data = []\n",
    "    for group in group_cols:\n",
    "        group_df = sales_train_evaluation.groupby(group)[cols_to_agg].sum().reset_index()\n",
    "        group_df['Hierarchy Level'] = hierarchy_level\n",
    "        appended_data.append(group_df)\n",
    "        hierarchy_level += 1\n",
    "\n",
    "    # Append all aggregated data in the order of hierarchy (lower index first)\n",
    "    aggregated_df = pd.concat([aggregated_df] + appended_data, ignore_index=True)\n",
    "    \n",
    "    # Sort DataFrame by 'Hierarchy Level'\n",
    "    aggregated_df.reset_index(drop=True, inplace=True)\n",
    "\n",
    "    # Create an empty aggregation matrix\n",
    "    n_rows = len(aggregated_df)\n",
    "    agg_matrix = np.zeros((n_rows, n_rows), dtype=int)\n",
    "\n",
    "    # Mark original rows (self aggregation)\n",
    "    np.fill_diagonal(agg_matrix[:len(original_indices), :len(original_indices)], 1)\n",
    "\n",
    "    # Fill in the aggregation matrix for the appended rows\n",
    "    new_index_offset = len(original_indices)\n",
    "    for group in group_cols:\n",
    "        group_indices = sales_train_evaluation.groupby(group).apply(lambda x: x.index.tolist()).tolist()\n",
    "        for sub_indices in group_indices:\n",
    "            agg_matrix[new_index_offset, sub_indices] = 1\n",
    "            new_index_offset += 1\n",
    "\n",
    "    return aggregated_df, agg_matrix"
   ]
  },
  {
   "cell_type": "code",
   "execution_count": 9,
   "metadata": {},
   "outputs": [],
   "source": [
    "agg_df, agg_matrix = create_aggregated_dataframe(sales_train_evaluation)"
   ]
  },
  {
   "cell_type": "code",
   "execution_count": 10,
   "metadata": {},
   "outputs": [],
   "source": [
    "cols_to_agg = [f'd_{i}' for i in range(1, 1942)]"
   ]
  },
  {
   "cell_type": "code",
   "execution_count": 11,
   "metadata": {},
   "outputs": [],
   "source": [
    "data = agg_df[cols_to_agg].T\n",
    "\n",
    "maximum = np.max(data.values)\n",
    "data_scaled = (data / maximum).values\n",
    "\n",
    "seed = 0 \n",
    "\n",
    "def set_seeds(seed): \n",
    "    random.seed(seed)\n",
    "    np.random.seed(seed)\n",
    "    torch.manual_seed(seed)\n",
    "    \n",
    "    torch.backends.cudnn.deterministic = True\n",
    "    torch.backends.cudnn.benchmark = False\n",
    "    # if using nvidia gpu\n",
    "    torch.cuda.manual_seed(seed)\n",
    "    torch.cuda.manual_seed_all(seed) \n",
    "\n",
    "set_seeds(seed)"
   ]
  },
  {
   "cell_type": "code",
   "execution_count": 12,
   "metadata": {},
   "outputs": [
    {
     "data": {
      "text/plain": [
       "(1941, 42839)"
      ]
     },
     "execution_count": 12,
     "metadata": {},
     "output_type": "execute_result"
    }
   ],
   "source": [
    "data_scaled.shape"
   ]
  },
  {
   "cell_type": "code",
   "execution_count": 13,
   "metadata": {},
   "outputs": [
    {
     "data": {
      "text/plain": [
       "(1941, 42839)"
      ]
     },
     "execution_count": 13,
     "metadata": {},
     "output_type": "execute_result"
    }
   ],
   "source": [
    "n_series = data.shape[1] \n",
    "n_total = data.shape[0]\n",
    "n_train = 1400\n",
    "context_window = 2\n",
    "n_val = 150\n",
    "\n",
    "data.shape"
   ]
  },
  {
   "cell_type": "code",
   "execution_count": 14,
   "metadata": {},
   "outputs": [],
   "source": [
    "def calculate_wmape(actual_values, forecasted_values):\n",
    "    # compute wMAPE metric\n",
    "    n = len(actual_values)\n",
    "    num = np.sum(np.abs(actual_values - forecasted_values))\n",
    "    den = np.sum(np.abs(actual_values))\n",
    "    wmape = num/den\n",
    "    return wmape\n",
    "\n",
    "def calculate_RMSE(actual_values, forecasted_values): \n",
    "    # compute RMSE metric\n",
    "    squared_errors = (actual_values - forecasted_values) ** 2\n",
    "    mean_squared_error = np.mean(squared_errors)\n",
    "    rmse = np.sqrt(mean_squared_error)\n",
    "    return rmse"
   ]
  },
  {
   "cell_type": "code",
   "execution_count": 15,
   "metadata": {},
   "outputs": [
    {
     "data": {
      "text/plain": [
       "(array([-250.,    0.,  250.,  500.,  750., 1000., 1250., 1500., 1750.,\n",
       "        2000., 2250.]),\n",
       " [Text(-250.0, 0, '−250'),\n",
       "  Text(0.0, 0, '0'),\n",
       "  Text(250.0, 0, '250'),\n",
       "  Text(500.0, 0, '500'),\n",
       "  Text(750.0, 0, '750'),\n",
       "  Text(1000.0, 0, '1000'),\n",
       "  Text(1250.0, 0, '1250'),\n",
       "  Text(1500.0, 0, '1500'),\n",
       "  Text(1750.0, 0, '1750'),\n",
       "  Text(2000.0, 0, '2000'),\n",
       "  Text(2250.0, 0, '2250')])"
      ]
     },
     "execution_count": 15,
     "metadata": {},
     "output_type": "execute_result"
    },
    {
     "data": {
      "image/png": "[encoded data removed]",
      "text/plain": [
       "<Figure size 640x480 with 1 Axes>"
      ]
     },
     "metadata": {},
     "output_type": "display_data"
    }
   ],
   "source": [
    "plt.plot(data_scaled[:,0])\n",
    "plt.xticks(rotation=90)"
   ]
  },
  {
   "cell_type": "code",
   "execution_count": 16,
   "metadata": {},
   "outputs": [],
   "source": [
    "def make_data(dataset, range_, context_window): \n",
    "    # produces X_data and y_data tensors given the dataset \n",
    "    X_data = []\n",
    "    y_data = []\n",
    "    for i in range_:\n",
    "        X = dataset[i:i+context_window,:].T.flatten()\n",
    "        X_data.append(X)\n",
    "\n",
    "        y = dataset[i+context_window:i+context_window+1,:].T.flatten()\n",
    "        y_data.append(y)\n",
    "\n",
    "    return torch.tensor(X_data, dtype=torch.float32), torch.tensor(y_data, dtype=torch.float32)"
   ]
  },
  {
   "cell_type": "code",
   "execution_count": 17,
   "metadata": {},
   "outputs": [],
   "source": [
    "class Dataset_M5(Dataset):\n",
    "    def __init__(self, root_path, flag='train', context_window=context_window, n_train=n_train, n_val=n_val, seq_len=n_train-context_window):\n",
    "        \n",
    "        # init\n",
    "        self.root_path = root_path\n",
    "        self.context_window=context_window\n",
    "        self.n_train = n_train\n",
    "        self.n_val = n_val\n",
    "        self.seq_len = seq_len\n",
    "        \n",
    "        assert flag in ['train', 'test', 'val']\n",
    "        type_map = {'train': 0, 'val': 1, 'test': 2}\n",
    "        self.set_type = type_map[flag]\n",
    "\n",
    "        self.__read_data__()\n",
    "\n",
    "    def __read_data__(self):\n",
    "        df_raw = agg_df[cols_to_agg].T\n",
    "        maximum = np.max(df_raw.values)\n",
    "        data = (df_raw / maximum).values\n",
    "        \n",
    "        X_data = []\n",
    "        y_data = []\n",
    "\n",
    "        if self.set_type == 0: \n",
    "            data_range = range(self.n_train)\n",
    "        elif self.set_type == 1: \n",
    "            data_range = range(self.n_train, self.n_train + self.n_val)\n",
    "        else: \n",
    "            data_range = range(self.n_train + self.n_val, self.data.shape[0] - self.context_window)\n",
    "\n",
    "        for i in data_range:\n",
    "            X = data[i:i+self.context_window,:].T.flatten()\n",
    "            X_data.append(X)\n",
    "\n",
    "            y = data[i+self.context_window:i+self.context_window+1,:].T.flatten()\n",
    "            y_data.append(y)\n",
    "\n",
    "        self.X = torch.tensor(np.array(X_data)).float()\n",
    "        self.y = torch.tensor(np.array(y_data)).float()\n",
    "\n",
    "    def __getitem__(self, index):\n",
    "        X = self.X[index:index + self.seq_len, :]\n",
    "        y = self.y[index:index + self.seq_len]\n",
    "        \n",
    "        return X, y\n",
    "\n",
    "    def __len__(self):\n",
    "        return len(self.X) - context_window - self.seq_len + 1"
   ]
  },
  {
   "cell_type": "code",
   "execution_count": 18,
   "metadata": {},
   "outputs": [],
   "source": [
    "train_dataset = Dataset_M5('/home/gridsan/mhensgen/m5', seq_len=50)"
   ]
  },
  {
   "cell_type": "code",
   "execution_count": 19,
   "metadata": {},
   "outputs": [
    {
     "data": {
      "text/plain": [
       "torch.Size([50, 85678])"
      ]
     },
     "execution_count": 19,
     "metadata": {},
     "output_type": "execute_result"
    }
   ],
   "source": [
    "train_dataset[0][0].shape"
   ]
  },
  {
   "cell_type": "code",
   "execution_count": 20,
   "metadata": {},
   "outputs": [
    {
     "data": {
      "text/plain": [
       "torch.float32"
      ]
     },
     "execution_count": 20,
     "metadata": {},
     "output_type": "execute_result"
    }
   ],
   "source": [
    "train_dataset.X.dtype"
   ]
  },
  {
   "cell_type": "code",
   "execution_count": 21,
   "metadata": {},
   "outputs": [
    {
     "name": "stderr",
     "output_type": "stream",
     "text": [
      "/state/partition1/slurm_tmp/25983519.0.0/ipykernel_1262672/3537104489.py:12: UserWarning: Creating a tensor from a list of numpy.ndarrays is extremely slow. Please consider converting the list to a single numpy.ndarray with numpy.array() before converting to a tensor. (Triggered internally at  ../torch/csrc/utils/tensor_new.cpp:201.)\n",
      "  return torch.tensor(X_data, dtype=torch.float32), torch.tensor(y_data, dtype=torch.float32)\n"
     ]
    },
    {
     "name": "stdout",
     "output_type": "stream",
     "text": [
      "torch.Size([1400, 85678])\n",
      "torch.Size([150, 85678])\n",
      "torch.Size([389, 85678])\n"
     ]
    }
   ],
   "source": [
    "X_train, y_train = make_data(data_scaled, range(n_train), context_window)\n",
    "X_val, y_val = make_data(data_scaled, range(n_train, n_train+n_val), context_window)\n",
    "X_test, y_test = make_data(data_scaled, range(n_train + n_val,n_total - context_window), context_window)\n",
    "\n",
    "print(X_train.shape)\n",
    "print(X_val.shape)\n",
    "print(X_test.shape)"
   ]
  },
  {
   "cell_type": "code",
   "execution_count": 22,
   "metadata": {},
   "outputs": [
    {
     "name": "stdout",
     "output_type": "stream",
     "text": [
      "cpu\n"
     ]
    }
   ],
   "source": [
    "device = torch.device(\"cuda\" if torch.cuda.is_available() else \"cpu\")\n",
    "print(device)\n",
    "\n",
    "num_level_0 = agg_df[agg_df['Hierarchy Level'] == 10].shape[0]\n",
    "\n",
    "aggregation_mat = torch.from_numpy(agg_matrix[num_level_0:, :]).float().to(device)\n",
    "S = agg_matrix[:, :num_level_0]\n",
    "\n",
    "def coherency_loss(network): \n",
    "    # computes coherency on last layer of the network \n",
    "    return torch.norm(aggregation_mat @ network.last_layer.weight - network.last_layer.weight[num_level_0:, :]) + torch.norm(\n",
    "        aggregation_mat @ network.last_layer.bias - network.last_layer.bias[num_level_0:]) \n",
    "\n",
    "def coherency_metric(predictions):\n",
    "    # computes the actual coherency of predictions \n",
    "    return torch.norm(predictions.T[num_level_0:, :] - aggregation_mat @ predictions.T) / predictions.shape[1]"
   ]
  },
  {
   "cell_type": "code",
   "execution_count": 23,
   "metadata": {},
   "outputs": [
    {
     "ename": "RuntimeError",
     "evalue": "Found no NVIDIA driver on your system. Please check that you have an NVIDIA GPU and installed a driver from http://www.nvidia.com/Download/index.aspx",
     "output_type": "error",
     "traceback": [
      "\u001b[0;31m---------------------------------------------------------------------------\u001b[0m",
      "\u001b[0;31mRuntimeError\u001b[0m                              Traceback (most recent call last)",
      "Cell \u001b[0;32mIn[23], line 1\u001b[0m\n\u001b[0;32m----> 1\u001b[0m \u001b[43mprint_memory\u001b[49m\u001b[43m(\u001b[49m\u001b[43m)\u001b[49m\n",
      "Cell \u001b[0;32mIn[2], line 2\u001b[0m, in \u001b[0;36mprint_memory\u001b[0;34m()\u001b[0m\n\u001b[1;32m      1\u001b[0m \u001b[38;5;28;01mdef\u001b[39;00m \u001b[38;5;21mprint_memory\u001b[39m(): \n\u001b[0;32m----> 2\u001b[0m     t \u001b[38;5;241m=\u001b[39m \u001b[43mtorch\u001b[49m\u001b[38;5;241;43m.\u001b[39;49m\u001b[43mcuda\u001b[49m\u001b[38;5;241;43m.\u001b[39;49m\u001b[43mget_device_properties\u001b[49m\u001b[43m(\u001b[49m\u001b[38;5;241;43m0\u001b[39;49m\u001b[43m)\u001b[49m\u001b[38;5;241m.\u001b[39mtotal_memory\n\u001b[1;32m      3\u001b[0m     r \u001b[38;5;241m=\u001b[39m torch\u001b[38;5;241m.\u001b[39mcuda\u001b[38;5;241m.\u001b[39mmemory_reserved(\u001b[38;5;241m0\u001b[39m)\n\u001b[1;32m      4\u001b[0m     a \u001b[38;5;241m=\u001b[39m torch\u001b[38;5;241m.\u001b[39mcuda\u001b[38;5;241m.\u001b[39mmemory_allocated(\u001b[38;5;241m0\u001b[39m)\n",
      "File \u001b[0;32m/state/partition1/llgrid/pkg/anaconda/anaconda3-2022b/lib/python3.8/site-packages/torch/cuda/__init__.py:359\u001b[0m, in \u001b[0;36mget_device_properties\u001b[0;34m(device)\u001b[0m\n\u001b[1;32m    349\u001b[0m \u001b[38;5;28;01mdef\u001b[39;00m \u001b[38;5;21mget_device_properties\u001b[39m(device: _device_t) \u001b[38;5;241m-\u001b[39m\u001b[38;5;241m>\u001b[39m _CudaDeviceProperties:\n\u001b[1;32m    350\u001b[0m     \u001b[38;5;124mr\u001b[39m\u001b[38;5;124;03m\"\"\"Gets the properties of a device.\u001b[39;00m\n\u001b[1;32m    351\u001b[0m \n\u001b[1;32m    352\u001b[0m \u001b[38;5;124;03m    Args:\u001b[39;00m\n\u001b[0;32m   (...)\u001b[0m\n\u001b[1;32m    357\u001b[0m \u001b[38;5;124;03m        _CudaDeviceProperties: the properties of the device\u001b[39;00m\n\u001b[1;32m    358\u001b[0m \u001b[38;5;124;03m    \"\"\"\u001b[39;00m\n\u001b[0;32m--> 359\u001b[0m     \u001b[43m_lazy_init\u001b[49m\u001b[43m(\u001b[49m\u001b[43m)\u001b[49m  \u001b[38;5;66;03m# will define _get_device_properties\u001b[39;00m\n\u001b[1;32m    360\u001b[0m     device \u001b[38;5;241m=\u001b[39m _get_device_index(device, optional\u001b[38;5;241m=\u001b[39m\u001b[38;5;28;01mTrue\u001b[39;00m)\n\u001b[1;32m    361\u001b[0m     \u001b[38;5;28;01mif\u001b[39;00m device \u001b[38;5;241m<\u001b[39m \u001b[38;5;241m0\u001b[39m \u001b[38;5;129;01mor\u001b[39;00m device \u001b[38;5;241m>\u001b[39m\u001b[38;5;241m=\u001b[39m device_count():\n",
      "File \u001b[0;32m/state/partition1/llgrid/pkg/anaconda/anaconda3-2022b/lib/python3.8/site-packages/torch/cuda/__init__.py:217\u001b[0m, in \u001b[0;36m_lazy_init\u001b[0;34m()\u001b[0m\n\u001b[1;32m    213\u001b[0m     \u001b[38;5;28;01mraise\u001b[39;00m \u001b[38;5;167;01mAssertionError\u001b[39;00m(\n\u001b[1;32m    214\u001b[0m         \u001b[38;5;124m\"\u001b[39m\u001b[38;5;124mlibcudart functions unavailable. It looks like you have a broken build?\u001b[39m\u001b[38;5;124m\"\u001b[39m)\n\u001b[1;32m    215\u001b[0m \u001b[38;5;66;03m# This function throws if there's a driver initialization error, no GPUs\u001b[39;00m\n\u001b[1;32m    216\u001b[0m \u001b[38;5;66;03m# are found or any other error occurs\u001b[39;00m\n\u001b[0;32m--> 217\u001b[0m \u001b[43mtorch\u001b[49m\u001b[38;5;241;43m.\u001b[39;49m\u001b[43m_C\u001b[49m\u001b[38;5;241;43m.\u001b[39;49m\u001b[43m_cuda_init\u001b[49m\u001b[43m(\u001b[49m\u001b[43m)\u001b[49m\n\u001b[1;32m    218\u001b[0m \u001b[38;5;66;03m# Some of the queued calls may reentrantly call _lazy_init();\u001b[39;00m\n\u001b[1;32m    219\u001b[0m \u001b[38;5;66;03m# we need to just return without initializing in that case.\u001b[39;00m\n\u001b[1;32m    220\u001b[0m \u001b[38;5;66;03m# However, we must not let any *other* threads in!\u001b[39;00m\n\u001b[1;32m    221\u001b[0m _tls\u001b[38;5;241m.\u001b[39mis_initializing \u001b[38;5;241m=\u001b[39m \u001b[38;5;28;01mTrue\u001b[39;00m\n",
      "\u001b[0;31mRuntimeError\u001b[0m: Found no NVIDIA driver on your system. Please check that you have an NVIDIA GPU and installed a driver from http://www.nvidia.com/Download/index.aspx"
     ]
    }
   ],
   "source": [
    "print_memory()"
   ]
  },
  {
   "cell_type": "code",
   "execution_count": null,
   "metadata": {},
   "outputs": [],
   "source": [
    "def create_M(S): \n",
    "    # creates the projection matrix M given the aggregation matrix S\n",
    "    m, m_K = S.shape\n",
    "    m_agg = m-m_K\n",
    "\n",
    "    # The top `m_agg` rows of the matrix `S` give the aggregation constraint matrix.\n",
    "    S_agg = S[num_level_0:, :]\n",
    "    A = np.hstack((-S_agg, np.eye(m_agg)))\n",
    "\n",
    "    M = torch.eye(m) - torch.from_numpy(A.T @ np.linalg.pinv(A @ A.T) @ A).float().to(device)\n",
    "\n",
    "    return M, A\n",
    "\n",
    "M, A = create_M(S)\n",
    "\n",
    "def project_samples(y): \n",
    "    return torch.matmul(y, M)\n",
    "\n",
    "\n",
    "def least_squares_loss(predictions): \n",
    "    # computes the projections and then takes least squares loss between predictions and projections \n",
    "    # predictions should have shape n_samples x n_series \n",
    "    # implements coherency loss from https://www.sciencedirect.com/science/article/pii/S0306261923008747#fig5\n",
    "    projections = project_samples(predictions)\n",
    "    error = predictions - projections \n",
    "    square_error = torch.square(error)\n",
    "    return torch.sum(square_error) / error.shape[0]"
   ]
  },
  {
   "cell_type": "code",
   "execution_count": 27,
   "metadata": {},
   "outputs": [],
   "source": [
    "X_val = X_val.to(device) \n",
    "y_val = y_val.to(device) "
   ]
  },
  {
   "cell_type": "code",
   "execution_count": 28,
   "metadata": {},
   "outputs": [],
   "source": [
    "class LstmNet(nn.Module):\n",
    "    def __init__(self, n_series, context, should_project=False):\n",
    "        \"\"\"\n",
    "        n_series = number of time series we have\n",
    "        context = size of context window (how many samples back we are using to predict)\n",
    "        should_project: boolean determining if we use a projection before output for coherency\n",
    "        \"\"\"\n",
    "        super().__init__()\n",
    "        \n",
    "        lstm_size = int(n_series * context / 1000)\n",
    "        lstm_hidden_size = int(lstm_size / 2)\n",
    "        last_layer_input_size = int(n_series / 1000)\n",
    "\n",
    "        self.encoder = nn.Linear(n_series * context, lstm_size, dtype=torch.float32)\n",
    "        self.lstm =  nn.LSTM(input_size=lstm_size, hidden_size=lstm_hidden_size, dropout=0.2, num_layers=2, dtype=torch.float32)\n",
    "        self.decoder = nn.Linear(lstm_hidden_size, last_layer_input_size, dtype=torch.float32)\n",
    "        self.last_layer = nn.Linear(last_layer_input_size, n_series, dtype=torch.float32) \n",
    "        \n",
    "        self.should_project = should_project\n",
    "        self.relu = nn.ReLU()\n",
    "        self.batch_norm = nn.BatchNorm1d(lstm_hidden_size)\n",
    "        \n",
    "        \n",
    "    def forward(self, x):\n",
    "        encoded = self.encoder(x)\n",
    "        encoded = self.relu(encoded) \n",
    "        lstm_out, _ = self.lstm(encoded)\n",
    "        lstm_out = self.relu(lstm_out)\n",
    "        #x = self.batch_norm(x)\n",
    "        decoded = self.relu(self.decoder(lstm_out))\n",
    "        out = self.last_layer(decoded)\n",
    "        if self.should_project: \n",
    "            out = project_samples(out)\n",
    "        return out"
   ]
  },
  {
   "cell_type": "code",
   "execution_count": 29,
   "metadata": {},
   "outputs": [],
   "source": [
    "import torch.optim as optim\n",
    "from tqdm import tqdm\n",
    "from torch.optim.lr_scheduler import MultiStepLR\n",
    "\n",
    "def train_net(n_epochs, batch_size=10, coherent=False, alpha=0, should_project=False, alpha_scaling=0, least_squares=False, scaling_increase_factor=0,\n",
    "               verbose=False, should_schedule=False, plot_loss=False, lr=0.001, max_grad_norm=10, update_alpha_epoch=100): \n",
    "    \"\"\"\n",
    "    trains an LSTMNet on the traffic dataset based on the given parameters\n",
    "    coherent: if true, uses coherent loss \n",
    "    alpha: the term we multiply the 'coherency_loss' by in calculating overall loss \n",
    "    should_project: if true, uses projection method \n",
    "    alpha_scaling: if a number, we will scale alpha by alpha_scaling * l1/l2. \n",
    "    essentially, we are setting l1 = l2*alpha, so the coherency will be weighted by 'alpha_scaling' in the loss\n",
    "    \"\"\"\n",
    "    # sets the number of epochs we train before updating alpha \n",
    "\n",
    "    network = LstmNet(n_series, context_window, should_project=should_project)\n",
    "    network = network.to(device)\n",
    "    \n",
    "    train_dataloader = DataLoader(\n",
    "            train_dataset,\n",
    "            batch_size=batch_size,\n",
    "            shuffle=False)\n",
    "\n",
    "    print('--- alpha {alpha} ---- lr  {lr}----'.format(alpha=alpha, lr=lr))\n",
    "\n",
    "    criterion = nn.MSELoss()\n",
    "    optimizer = optim.Adam(network.parameters(), lr=lr)\n",
    "    if should_schedule: \n",
    "        if scaling_increase_factor > 0: \n",
    "            scheduler = MultiStepLR(optimizer, milestones=[i for i in range(update_alpha_epoch + 1, n_epochs, update_alpha_epoch)], gamma=1-scaling_increase_factor)\n",
    "        else: \n",
    "            scheduler = MultiStepLR(optimizer, milestones=[750, 1500, 2250], gamma=0.99)\n",
    "\n",
    "    losses = []\n",
    "    l1s = [] \n",
    "    l2s = []\n",
    "    validation_loss =[] \n",
    "    \n",
    "    for epoch in tqdm(range(n_epochs)):  # loop over the dataset multiple times\n",
    "\n",
    "        inputs, labels = next(iter(train_dataloader))\n",
    "        \n",
    "        inputs = inputs.to(device) \n",
    "        labels = labels.to(device) \n",
    "\n",
    "        # print(inputs[0, :20, 0])\n",
    "        # print(labels[0, :20, 0]) \n",
    "        # print(X_train[:20, 0]) \n",
    "        # print(y_train[:20, 0]) \n",
    "\n",
    "        optimizer.zero_grad()\n",
    "\n",
    "        outputs = network(inputs)\n",
    "\n",
    "        # add coherency network loss\n",
    "        if coherent: \n",
    "            l1 = criterion(outputs, labels) \n",
    "            l2 = coherency_loss(network)\n",
    "\n",
    "            l2s.append(l2.item())\n",
    "            l1s.append(l1.item())\n",
    "\n",
    "            loss = (l1 + alpha * l2)\n",
    "\n",
    "            if loss.isnan(): \n",
    "                print('---')\n",
    "                print(l1)\n",
    "                print(l1s[epoch-5:])\n",
    "                print(l2)\n",
    "                print(l2s[epoch-5:])\n",
    "\n",
    "            validation_loss.append((criterion(network(X_val.to(device)), y_val.to(device)) + alpha * l2).item())\n",
    "        \n",
    "        elif least_squares: \n",
    "            l1 = criterion(outputs, labels) \n",
    "            l2 = 0\n",
    "            # TODO: speed this up with batching \n",
    "            for i in range(outputs.shape[0]): \n",
    "                l2 = l2 + torch.norm(outputs[i, :, :].T[num_level_0:, :] - aggregation_mat @ outputs[i, :, :].T)\n",
    "\n",
    "            l2s.append(l2.item())\n",
    "            l1s.append(l1.item())\n",
    "\n",
    "            loss = (l1 + alpha * l2)\n",
    "\n",
    "            if loss.isnan(): \n",
    "                print('---')\n",
    "                print(l1)\n",
    "                print(l1s[epoch-5:])\n",
    "                print(l2)\n",
    "                print(l2s[epoch-5:])\n",
    "\n",
    "            validation_loss.append((criterion(network(X_val.to(device)), y_val.to(device)) + alpha * l2).item())\n",
    "\n",
    "        # normal loss\n",
    "        else: \n",
    "            loss = criterion(outputs, labels)\n",
    "            validation_loss.append(criterion(network(X_val.to(device)), y_val.to(device)).item())\n",
    "\n",
    "        loss.backward()\n",
    "\n",
    "        nn.utils.clip_grad_norm_(network.parameters(), max_grad_norm)\n",
    "\n",
    "        optimizer.step()\n",
    "\n",
    "        losses.append(loss.item())\n",
    "\n",
    "        if epoch % update_alpha_epoch == 0 and epoch > 0:   \n",
    "            if verbose:  \n",
    "                print(\"Epoch:\", epoch, \" Loss: \", np.mean(losses))\n",
    "                print(np.mean(np.array(l1s[epoch-update_alpha_epoch:epoch])))\n",
    "                print(np.mean(np.array(l2s[epoch-update_alpha_epoch:epoch])))\n",
    "            # plt.figure()\n",
    "            # plt.plot(range(len(losses[epoch-100:epoch])), losses[epoch-100:epoch], label='training')\n",
    "            # plt.plot(range(len(validation_loss[epoch-100:epoch])), validation_loss[epoch-100:epoch], label='validation')\n",
    "            # plt.legend()\n",
    "            # plt.show()\n",
    "\n",
    "            if (coherent or least_squares) and (alpha_scaling or scaling_increase_factor > 0): \n",
    "                with torch.no_grad():\n",
    "                    l1_mean = np.mean(np.array(l1s[epoch-update_alpha_epoch:epoch]))\n",
    "                    l2_mean =  np.mean(np.array(l2s[epoch-update_alpha_epoch:epoch]))\n",
    "                    print(l1_mean)\n",
    "                    print(l2_mean)\n",
    "                    print(max(np.array(l2s[epoch-update_alpha_epoch:epoch])))\n",
    "                    alpha = l1_mean/l2_mean * alpha_scaling\n",
    "                    alpha_scaling = alpha_scaling + scaling_increase_factor\n",
    "                    if verbose: \n",
    "                        print('scaled: ', l1_mean/l2_mean)\n",
    "                        print('RMSE mean: ', l1_mean)\n",
    "                        print('Coherency Loss mean: ', l2_mean)\n",
    "                        print('alpha: ', alpha)\n",
    "                        print('alpha scaling: ', alpha_scaling)\n",
    "\n",
    "        if should_schedule: \n",
    "            scheduler.step()\n",
    "\n",
    "            \n",
    "    # plotting \n",
    "    plot_start = 0\n",
    "    start_2 = 101\n",
    "    if plot_loss: \n",
    "        plt.plot(range(len(losses[plot_start:])), losses[plot_start:], label='Train')\n",
    "        plt.plot(range(len(losses[plot_start:])), validation_loss[plot_start:], label='val')\n",
    "        plt.title('RMSE starting at epoch {plot_start}'.format(plot_start=plot_start))\n",
    "        plt.legend()\n",
    "        plt.show()\n",
    "        if coherent: \n",
    "            plt.plot(range(len(l2s[plot_start:])), l2s[plot_start:], label='Coherency Loss')\n",
    "            plt.title('Coherency Loss loss starting at epoch {plot_start}'.format(plot_start=plot_start))\n",
    "            plt.legend() \n",
    "            plt.show()\n",
    "        if start_2: \n",
    "            plt.plot(range(len(losses[start_2:])-4), [(losses[i] + losses[i + 1] + losses[i + 2] + losses[i + 3] + losses[i + 4])/5 for i in range(start_2, len(losses)-4)], label='Train')\n",
    "            plt.plot(range(len(losses[start_2:])-6), [(validation_loss[i] + validation_loss[i + 1] + validation_loss[i + 2] + validation_loss[i + 3] + validation_loss[i + 4] + validation_loss[i + 5] + validation_loss[i + 6])/7 for i in range(start_2, len(losses)-6)], label='val')\n",
    "            plt.title('RMSE starting at epoch {plot_start}'.format(plot_start=start_2))\n",
    "            plt.legend()\n",
    "            plt.show()\n",
    "            if coherent: \n",
    "                plt.plot(range(len(l2s[start_2:])), l2s[start_2:], label='Coherency Loss')\n",
    "                plt.title('Coherency loss starting at epoch {plot_start}'.format(plot_start=start_2))\n",
    "                plt.legend() \n",
    "                plt.show()\n",
    "    \n",
    "    return network, losses\n"
   ]
  },
  {
   "cell_type": "code",
   "execution_count": 30,
   "metadata": {},
   "outputs": [],
   "source": [
    "def visualize(ts, networks, labels, starting_zone = 0): \n",
    "    \"\"\"\n",
    "    Visualizes the networks' predictions on a specific time series \n",
    "    ts: time series to visualize\n",
    "    labels: labels of the networks for plotting\n",
    "    defining each zone as 50 points just so the graphs are easier to see \n",
    "    networks and labels should have same length\n",
    "    \"\"\"\n",
    "    with torch.no_grad(): \n",
    "        truth = y_test.numpy()[:,ts]\n",
    "        start_time = starting_zone*50\n",
    "        end_time = start_time + 50\n",
    "        plt.plot(truth[start_time:end_time], label = 'truth')\n",
    "\n",
    "        for i in range(len(networks)): \n",
    "            predict_net = networks[i](X_test).numpy()[:,ts]\n",
    "\n",
    "            plt.plot(predict_net[start_time:end_time], label = labels[i])\n",
    "        plt.legend()"
   ]
  },
  {
   "cell_type": "code",
   "execution_count": 31,
   "metadata": {},
   "outputs": [],
   "source": [
    "def calculate_mean_RMSE(network): \n",
    "    network.lstm.eval()  \n",
    "    return calculate_RMSE(y_test.cpu().numpy(), network(X_test.to(device)).cpu().detach().numpy())\n",
    "\n",
    "\n",
    "def get_metrics(networks, verbose=False): \n",
    "    rmses = []\n",
    "    network_coherencies = [] \n",
    "    ll_losses = [] \n",
    "    #print(networks)\n",
    "    for network in networks: \n",
    "        network.lstm.eval() \n",
    "        rmse = calculate_mean_RMSE(network)\n",
    "        network_coherency = coherency_metric(network(X_test.to(device))).item() \n",
    "        ll_loss = coherency_loss(network).item()\n",
    "        if verbose: \n",
    "            print(\"RMSE: \", rmse)\n",
    "            print(\"Network coherency: \", network_coherency)\n",
    "            print(\"Last Layer Coherency Loss: \", ll_loss)\n",
    "        rmses.append(rmse)\n",
    "        network_coherencies.append(network_coherency)\n",
    "        ll_losses.append(ll_loss)\n",
    "    return rmses, network_coherencies, ll_losses"
   ]
  },
  {
   "cell_type": "code",
   "execution_count": 32,
   "metadata": {},
   "outputs": [],
   "source": [
    "def save_model(model, name): \n",
    "    torch.save(model.state_dict(), name + '.pth')"
   ]
  },
  {
   "cell_type": "code",
   "execution_count": 33,
   "metadata": {},
   "outputs": [],
   "source": [
    "def load_model(path, should_project): \n",
    "    model = LstmNet(n_series, context_window, should_project=should_project)\n",
    "    model.load_state_dict(torch.load(path))\n",
    "    model.to(device)\n",
    "    return model "
   ]
  },
  {
   "cell_type": "markdown",
   "metadata": {},
   "source": [
    "# Baselines"
   ]
  },
  {
   "cell_type": "code",
   "execution_count": 28,
   "metadata": {},
   "outputs": [],
   "source": [
    "def print_memory(): \n",
    "    t = torch.cuda.get_device_properties(0).total_memory\n",
    "    r = torch.cuda.memory_reserved(0)\n",
    "    a = torch.cuda.memory_allocated(0)\n",
    "    print(t, r, a)"
   ]
  },
  {
   "cell_type": "code",
   "execution_count": 32,
   "metadata": {},
   "outputs": [
    {
     "name": "stdout",
     "output_type": "stream",
     "text": [
      "34079637504 9460252672 2193185792\n"
     ]
    }
   ],
   "source": [
    "print_memory()"
   ]
  },
  {
   "cell_type": "code",
   "execution_count": 33,
   "metadata": {},
   "outputs": [],
   "source": [
    "trained_baselines = True\n",
    "trained_projection = True"
   ]
  },
  {
   "cell_type": "code",
   "execution_count": 32,
   "metadata": {
    "tags": []
   },
   "outputs": [
    {
     "name": "stdout",
     "output_type": "stream",
     "text": [
      "RMSE:  0.0026053598\n",
      "Network coherency:  0.0002604941837489605\n",
      "Last Layer Coherency Loss:  356.9902648925781\n",
      "RMSE:  0.0024430952\n",
      "Network coherency:  0.00011353904847055674\n",
      "Last Layer Coherency Loss:  373.8934020996094\n",
      "RMSE:  0.0025201256\n",
      "Network coherency:  0.00017331323761027306\n",
      "Last Layer Coherency Loss:  348.4934997558594\n",
      "RMSE:  0.0024936586\n",
      "Network coherency:  0.00022045493824407458\n",
      "Last Layer Coherency Loss:  370.22509765625\n",
      "RMSE:  0.0024930865\n",
      "Network coherency:  0.00016706177848391235\n",
      "Last Layer Coherency Loss:  365.2541809082031\n"
     ]
    }
   ],
   "source": [
    "n_trials = 5\n",
    "\n",
    "baseline_metrics = np.zeros((4, n_trials))\n",
    "baseline_networks = [] \n",
    "\n",
    "for i in range(n_trials): \n",
    "    seed = random.randint(0, 100) \n",
    "    if trained_baselines: \n",
    "        baseline_network = load_model('baseline_batching_{i}.pth'.format(i=i), False)\n",
    "    else:\n",
    "        baseline_network, loss = train_net(500, batch_size=25, plot_loss=True, lr=0.0005)\n",
    "        save_model(baseline_network, 'baseline_batching_{i}'.format(i=i))\n",
    "        \n",
    "    rmse_baseline, network_coherency_baseline, network_loss_baseline = get_metrics([baseline_network], verbose=True)\n",
    "    validation_loss = calculate_RMSE(y_val.cpu().numpy(), baseline_network(X_val.to(device)).detach().cpu().numpy())\n",
    "    baseline_metrics[:, i] = [rmse_baseline[0], network_coherency_baseline[0], network_loss_baseline[0], validation_loss]\n",
    "    baseline_networks.append(baseline_network) "
   ]
  },
  {
   "cell_type": "code",
   "execution_count": 34,
   "metadata": {},
   "outputs": [
    {
     "name": "stdout",
     "output_type": "stream",
     "text": [
      "RMSE:  0.0024419057\n",
      "Network coherency:  1.8960058412176295e-08\n",
      "Last Layer Coherency Loss:  384.6218566894531\n",
      "RMSE:  0.0025551664\n",
      "Network coherency:  2.104174079420318e-08\n",
      "Last Layer Coherency Loss:  380.5447692871094\n",
      "RMSE:  0.002453224\n",
      "Network coherency:  1.8852338357078224e-08\n",
      "Last Layer Coherency Loss:  369.928955078125\n",
      "RMSE:  0.002525085\n",
      "Network coherency:  1.910760438761372e-08\n",
      "Last Layer Coherency Loss:  387.27484130859375\n",
      "RMSE:  0.0024191784\n",
      "Network coherency:  1.8802895240810358e-08\n",
      "Last Layer Coherency Loss:  400.7745056152344\n"
     ]
    }
   ],
   "source": [
    "n_trials = 5\n",
    "\n",
    "projection_metrics = np.zeros((4, n_trials))  \n",
    "projection_networks = [] \n",
    "\n",
    "for i in range(n_trials): \n",
    "    seed = random.randint(0, 100) \n",
    "    if trained_projection: \n",
    "        projection_network = load_model('projection_batched_{i}.pth'.format(i=i), True)\n",
    "    else: \n",
    "        projection_network, loss = train_net(500, batch_size=25, plot_loss=True, should_project=True, lr=0.0005)\n",
    "        save_model(projection_network, 'projection_batched_{i}'.format(i=i))\n",
    "        \n",
    "    rmse_projection, network_coherency_projection, network_loss_projection = get_metrics([projection_network], verbose=True)\n",
    "    validation_loss = calculate_RMSE(y_val.cpu().numpy(), projection_network(X_val.to(device)).detach().cpu().numpy())\n",
    "    projection_metrics[:, i] = [rmse_projection[0], network_coherency_projection[0], network_loss_projection[0], validation_loss]\n",
    "    projection_networks.append(rmse_projection) "
   ]
  },
  {
   "cell_type": "code",
   "execution_count": 35,
   "metadata": {},
   "outputs": [
    {
     "name": "stdout",
     "output_type": "stream",
     "text": [
      "[2.51106513e-03 1.86972637e-04 3.62971289e+02 1.91776259e-03]\n",
      "[5.33286060e-05 5.00039913e-05 9.19239817e+00 3.13659498e-05]\n",
      "[2.47891187e-03 1.93529274e-08 3.84628986e+02 1.89514745e-03]\n",
      "[5.20463454e-05 8.50851911e-10 1.00045004e+01 3.39326615e-05]\n"
     ]
    }
   ],
   "source": [
    "print(baseline_metrics.mean(axis=1)) \n",
    "print(baseline_metrics.std(axis=1)) \n",
    "print(projection_metrics.mean(axis=1))\n",
    "print(projection_metrics.std(axis=1))"
   ]
  },
  {
   "cell_type": "markdown",
   "metadata": {},
   "source": [
    "# Parameter Experiments "
   ]
  },
  {
   "cell_type": "code",
   "execution_count": 34,
   "metadata": {},
   "outputs": [],
   "source": [
    "alpha_experiments = [0.001, 0.01, 0.1, 1, 10, 100, 1000]\n",
    "alpha_scale_experiments = [0.05, .25, 1, 5, 20, 50]\n",
    "alpha_scale_increment_experiments = [0.1, 0.5, 1, 5, 10, 50]"
   ]
  },
  {
   "cell_type": "code",
   "execution_count": 56,
   "metadata": {
    "tags": []
   },
   "outputs": [
    {
     "name": "stdout",
     "output_type": "stream",
     "text": [
      "RMSE:  0.0024238282\n",
      "Network coherency:  0.0013411894906312227\n",
      "Last Layer Coherency Loss:  348.1683654785156\n",
      "RMSE:  0.0025300297\n",
      "Network coherency:  0.0018778806552290916\n",
      "Last Layer Coherency Loss:  358.7933044433594\n",
      "RMSE:  0.0024762712\n",
      "Network coherency:  0.002354743890464306\n",
      "Last Layer Coherency Loss:  336.93212890625\n",
      "RMSE:  0.002531668\n",
      "Network coherency:  0.0019511979771777987\n",
      "Last Layer Coherency Loss:  340.25006103515625\n",
      "RMSE:  0.00538505\n",
      "Network coherency:  0.0019267895258963108\n",
      "Last Layer Coherency Loss:  351.9099426269531\n",
      "RMSE:  0.060927957\n",
      "Network coherency:  0.0010925795650109649\n",
      "Last Layer Coherency Loss:  336.7196044921875\n",
      "RMSE:  0.0024247284\n",
      "Network coherency:  0.0014417169149965048\n",
      "Last Layer Coherency Loss:  353.6699523925781\n",
      "RMSE:  0.0024587945\n",
      "Network coherency:  0.0019290943164378405\n",
      "Last Layer Coherency Loss:  352.8209228515625\n",
      "RMSE:  0.0024835882\n",
      "Network coherency:  0.0009874883107841015\n",
      "Last Layer Coherency Loss:  360.2652587890625\n",
      "RMSE:  0.002689871\n",
      "Network coherency:  0.000812465965282172\n",
      "Last Layer Coherency Loss:  343.59869384765625\n",
      "RMSE:  0.006781489\n",
      "Network coherency:  0.0017948633758351207\n",
      "Last Layer Coherency Loss:  352.45855712890625\n",
      "RMSE:  0.056354627\n",
      "Network coherency:  0.001002284698188305\n",
      "Last Layer Coherency Loss:  362.5483703613281\n",
      "RMSE:  0.0024149423\n",
      "Network coherency:  0.0005185475456528366\n",
      "Last Layer Coherency Loss:  364.7578125\n",
      "RMSE:  0.002462981\n",
      "Network coherency:  0.0009395530796609819\n",
      "Last Layer Coherency Loss:  355.364990234375\n",
      "RMSE:  0.0024809763\n",
      "Network coherency:  0.00020379130728542805\n",
      "Last Layer Coherency Loss:  358.66375732421875\n",
      "RMSE:  0.0026734993\n",
      "Network coherency:  0.0011085467413067818\n",
      "Last Layer Coherency Loss:  360.4066162109375\n",
      "RMSE:  0.0073034074\n",
      "Network coherency:  0.0017964451108127832\n",
      "Last Layer Coherency Loss:  373.03466796875\n",
      "RMSE:  0.0529971\n",
      "Network coherency:  0.000800809939391911\n",
      "Last Layer Coherency Loss:  370.0263977050781\n",
      "RMSE:  0.0024292276\n",
      "Network coherency:  0.0011011646129190922\n",
      "Last Layer Coherency Loss:  381.51129150390625\n",
      "RMSE:  0.0024395648\n",
      "Network coherency:  0.00020437120110727847\n",
      "Last Layer Coherency Loss:  365.5071105957031\n",
      "RMSE:  0.002486765\n",
      "Network coherency:  0.0015436027897521853\n",
      "Last Layer Coherency Loss:  346.0589599609375\n",
      "RMSE:  0.0026955\n",
      "Network coherency:  0.0016793465474620461\n",
      "Last Layer Coherency Loss:  352.182373046875\n",
      "RMSE:  0.0073324414\n",
      "Network coherency:  0.001844743499532342\n",
      "Last Layer Coherency Loss:  345.9891357421875\n",
      "RMSE:  0.05739933\n",
      "Network coherency:  0.0010126875713467598\n",
      "Last Layer Coherency Loss:  372.2070617675781\n",
      "RMSE:  0.0024104512\n",
      "Network coherency:  0.0013201069086790085\n",
      "Last Layer Coherency Loss:  341.2171630859375\n",
      "RMSE:  0.0024503334\n",
      "Network coherency:  0.0003071107785217464\n",
      "Last Layer Coherency Loss:  350.6949462890625\n",
      "RMSE:  0.002520559\n",
      "Network coherency:  0.0007476117461919785\n",
      "Last Layer Coherency Loss:  353.02569580078125\n",
      "RMSE:  0.0030145876\n",
      "Network coherency:  0.0011063024867326021\n",
      "Last Layer Coherency Loss:  346.4111328125\n",
      "RMSE:  0.010844648\n",
      "Network coherency:  0.0017510467441752553\n",
      "Last Layer Coherency Loss:  359.6544189453125\n",
      "RMSE:  0.056459665\n",
      "Network coherency:  0.0009100093157030642\n",
      "Last Layer Coherency Loss:  338.90936279296875\n"
     ]
    }
   ],
   "source": [
    "const_alpha = 0\n",
    "const_alph_scale = 0\n",
    "n_trials = 5\n",
    "alpha_inc_experiments_trained = True\n",
    "\n",
    "metrics_increment = np.zeros((4, n_trials, len(alpha_scale_increment_experiments)))\n",
    "networks_increment = [[] for i in range(n_trials)]\n",
    "\n",
    "for i in range(n_trials):  \n",
    "    scaling_idx = 0 \n",
    "    for scaling_increase_factor in alpha_scale_increment_experiments: \n",
    "        if alpha_inc_experiments_trained: \n",
    "            network = load_model('least_squares_scaling_increment_batched_{inc}_trial={i}.pth'.format(inc=scaling_increase_factor, i=i), False)\n",
    "        else: \n",
    "            network, loss = train_net(500, batch_size=25, least_squares=True, alpha=const_alpha, alpha_scaling=const_alph_scale, should_project=False,\n",
    "                                 scaling_increase_factor=scaling_increase_factor, \n",
    "                                 lr=0.001/(1 + np.log(1+scaling_increase_factor/4)), plot_loss=True)\n",
    "            save_model(network, 'least_squares_scaling_increment_batched_{inc}_trial={i}'.format(inc=scaling_increase_factor, i=i))\n",
    "            \n",
    "        rmse, coherency, network_loss = get_metrics([network], verbose=True)\n",
    "        validation_loss = calculate_RMSE(y_val.cpu().numpy(), network(X_val.to(device)).detach().cpu().numpy())\n",
    "        metrics_increment[:, i, scaling_idx] = [rmse[0], coherency[0], network_loss[0], validation_loss]\n",
    "        networks_increment[i].append(network) \n",
    "        \n",
    "        scaling_idx += 1"
   ]
  },
  {
   "cell_type": "code",
   "execution_count": 57,
   "metadata": {},
   "outputs": [
    {
     "name": "stdout",
     "output_type": "stream",
     "text": [
      "test\n",
      "[0.00242064 0.00246834 0.00248963 0.00272103 0.00752941 0.05682774]\n",
      "[6.88334523e-06 3.18675630e-05 1.58407812e-05 1.58692073e-04\n",
      " 1.80212880e-03 2.53659634e-03]\n",
      "validation\n",
      "[0.00185579 0.00189197 0.00190495 0.00216175 0.00727826 0.05678795]\n",
      "[4.78599766e-06 2.24064092e-05 1.18862039e-05 1.27171743e-04\n",
      " 1.87407725e-03 2.53004873e-03]\n",
      "coherency\n",
      "[0.00114455 0.0010516  0.00116745 0.00133157 0.00182278 0.00096367]\n"
     ]
    }
   ],
   "source": [
    "print('test')\n",
    "print(metrics_increment.mean(axis=1)[0, :])\n",
    "print(metrics_increment.std(axis=1)[0, :])\n",
    "print('validation') \n",
    "print(metrics_increment.mean(axis=1)[3, :])\n",
    "print(metrics_increment.std(axis=1)[3, :])\n",
    "print('coherency') \n",
    "print(metrics_increment.mean(axis=1)[1, :])"
   ]
  },
  {
   "cell_type": "markdown",
   "metadata": {},
   "source": [
    "# Alpha Inc Experiments"
   ]
  },
  {
   "cell_type": "code",
   "execution_count": 35,
   "metadata": {
    "tags": []
   },
   "outputs": [
    {
     "name": "stdout",
     "output_type": "stream",
     "text": [
      "0.1\n",
      "--- alpha 0.0001 ---- lr  0.000975902419626165----\n"
     ]
    },
    {
     "name": "stderr",
     "output_type": "stream",
     "text": [
      " 20%|██        | 101/500 [00:22<01:26,  4.62it/s]"
     ]
    },
    {
     "name": "stdout",
     "output_type": "stream",
     "text": [
      "0.005312792097683996\n",
      "150.74275344848633\n",
      "365.61260986328125\n"
     ]
    },
    {
     "name": "stderr",
     "output_type": "stream",
     "text": [
      " 22%|██▏       | 110/500 [00:24<01:28,  4.42it/s]\n"
     ]
    },
    {
     "ename": "KeyboardInterrupt",
     "evalue": "",
     "output_type": "error",
     "traceback": [
      "\u001b[0;31m---------------------------------------------------------------------------\u001b[0m",
      "\u001b[0;31mKeyboardInterrupt\u001b[0m                         Traceback (most recent call last)",
      "Cell \u001b[0;32mIn[35], line 16\u001b[0m\n\u001b[1;32m     14\u001b[0m     network \u001b[38;5;241m=\u001b[39m load_model(\u001b[38;5;124m'\u001b[39m\u001b[38;5;124mscaling_increment_batched_with_alpha_\u001b[39m\u001b[38;5;132;01m{inc}\u001b[39;00m\u001b[38;5;124m_trial=\u001b[39m\u001b[38;5;132;01m{i}\u001b[39;00m\u001b[38;5;124m.pth\u001b[39m\u001b[38;5;124m'\u001b[39m\u001b[38;5;241m.\u001b[39mformat(inc\u001b[38;5;241m=\u001b[39mscaling_increase_factor, i\u001b[38;5;241m=\u001b[39mi), \u001b[38;5;28;01mFalse\u001b[39;00m)\n\u001b[1;32m     15\u001b[0m \u001b[38;5;28;01melse\u001b[39;00m: \n\u001b[0;32m---> 16\u001b[0m     network, loss \u001b[38;5;241m=\u001b[39m \u001b[43mtrain_net\u001b[49m\u001b[43m(\u001b[49m\u001b[38;5;241;43m500\u001b[39;49m\u001b[43m,\u001b[49m\u001b[43m \u001b[49m\u001b[43mbatch_size\u001b[49m\u001b[38;5;241;43m=\u001b[39;49m\u001b[38;5;241;43m25\u001b[39;49m\u001b[43m,\u001b[49m\u001b[43m \u001b[49m\u001b[43mcoherent\u001b[49m\u001b[38;5;241;43m=\u001b[39;49m\u001b[38;5;28;43;01mTrue\u001b[39;49;00m\u001b[43m,\u001b[49m\u001b[43m \u001b[49m\u001b[43malpha\u001b[49m\u001b[38;5;241;43m=\u001b[39;49m\u001b[43mconst_alpha\u001b[49m\u001b[43m,\u001b[49m\u001b[43m \u001b[49m\u001b[43malpha_scaling\u001b[49m\u001b[38;5;241;43m=\u001b[39;49m\u001b[38;5;241;43m0\u001b[39;49m\u001b[43m,\u001b[49m\u001b[43m \u001b[49m\u001b[43mshould_project\u001b[49m\u001b[38;5;241;43m=\u001b[39;49m\u001b[38;5;28;43;01mFalse\u001b[39;49;00m\u001b[43m,\u001b[49m\n\u001b[1;32m     17\u001b[0m \u001b[43m                         \u001b[49m\u001b[43mscaling_increase_factor\u001b[49m\u001b[38;5;241;43m=\u001b[39;49m\u001b[43mscaling_increase_factor\u001b[49m\u001b[43m,\u001b[49m\u001b[43m \u001b[49m\n\u001b[1;32m     18\u001b[0m \u001b[43m                         \u001b[49m\u001b[43mlr\u001b[49m\u001b[38;5;241;43m=\u001b[39;49m\u001b[38;5;241;43m0.001\u001b[39;49m\u001b[38;5;241;43m/\u001b[39;49m\u001b[43m(\u001b[49m\u001b[38;5;241;43m1\u001b[39;49m\u001b[43m \u001b[49m\u001b[38;5;241;43m+\u001b[39;49m\u001b[43m \u001b[49m\u001b[43mnp\u001b[49m\u001b[38;5;241;43m.\u001b[39;49m\u001b[43mlog\u001b[49m\u001b[43m(\u001b[49m\u001b[38;5;241;43m1\u001b[39;49m\u001b[38;5;241;43m+\u001b[39;49m\u001b[43mscaling_increase_factor\u001b[49m\u001b[38;5;241;43m/\u001b[39;49m\u001b[38;5;241;43m4\u001b[39;49m\u001b[43m)\u001b[49m\u001b[43m)\u001b[49m\u001b[43m,\u001b[49m\u001b[43m \u001b[49m\u001b[43mplot_loss\u001b[49m\u001b[38;5;241;43m=\u001b[39;49m\u001b[38;5;28;43;01mTrue\u001b[39;49;00m\u001b[43m)\u001b[49m\n\u001b[1;32m     19\u001b[0m     save_model(network, \u001b[38;5;124m'\u001b[39m\u001b[38;5;124mscaling_increment_batched_with_alpha_\u001b[39m\u001b[38;5;132;01m{inc}\u001b[39;00m\u001b[38;5;124m_trial=\u001b[39m\u001b[38;5;132;01m{i}\u001b[39;00m\u001b[38;5;124m'\u001b[39m\u001b[38;5;241m.\u001b[39mformat(inc\u001b[38;5;241m=\u001b[39mscaling_increase_factor, i\u001b[38;5;241m=\u001b[39mi))\n\u001b[1;32m     21\u001b[0m rmse, coherency, network_loss \u001b[38;5;241m=\u001b[39m get_metrics([network], verbose\u001b[38;5;241m=\u001b[39m\u001b[38;5;28;01mTrue\u001b[39;00m)\n",
      "Cell \u001b[0;32mIn[29], line 44\u001b[0m, in \u001b[0;36mtrain_net\u001b[0;34m(n_epochs, batch_size, coherent, alpha, should_project, alpha_scaling, least_squares, scaling_increase_factor, verbose, should_schedule, plot_loss, lr, max_grad_norm, update_alpha_epoch)\u001b[0m\n\u001b[1;32m     40\u001b[0m \u001b[38;5;28;01mfor\u001b[39;00m epoch \u001b[38;5;129;01min\u001b[39;00m tqdm(\u001b[38;5;28mrange\u001b[39m(n_epochs)):  \u001b[38;5;66;03m# loop over the dataset multiple times\u001b[39;00m\n\u001b[1;32m     42\u001b[0m     inputs, labels \u001b[38;5;241m=\u001b[39m \u001b[38;5;28mnext\u001b[39m(\u001b[38;5;28miter\u001b[39m(train_dataloader))\n\u001b[0;32m---> 44\u001b[0m     inputs \u001b[38;5;241m=\u001b[39m \u001b[43minputs\u001b[49m\u001b[38;5;241;43m.\u001b[39;49m\u001b[43mto\u001b[49m\u001b[43m(\u001b[49m\u001b[43mdevice\u001b[49m\u001b[43m)\u001b[49m \n\u001b[1;32m     45\u001b[0m     labels \u001b[38;5;241m=\u001b[39m labels\u001b[38;5;241m.\u001b[39mto(device) \n\u001b[1;32m     47\u001b[0m     \u001b[38;5;66;03m# print(inputs[0, :20, 0])\u001b[39;00m\n\u001b[1;32m     48\u001b[0m     \u001b[38;5;66;03m# print(labels[0, :20, 0]) \u001b[39;00m\n\u001b[1;32m     49\u001b[0m     \u001b[38;5;66;03m# print(X_train[:20, 0]) \u001b[39;00m\n\u001b[1;32m     50\u001b[0m     \u001b[38;5;66;03m# print(y_train[:20, 0]) \u001b[39;00m\n",
      "\u001b[0;31mKeyboardInterrupt\u001b[0m: "
     ]
    }
   ],
   "source": [
    "const_alpha = .0001\n",
    "const_alph_scale = 0\n",
    "n_trials = 5\n",
    "alpha_inc_experiments_trained = False\n",
    "\n",
    "metrics_increment = np.zeros((4, n_trials, len(alpha_scale_increment_experiments)))\n",
    "networks_increment = [[] for i in range(n_trials)]\n",
    "\n",
    "for i in range(n_trials):  \n",
    "    scaling_idx = 0 \n",
    "    for scaling_increase_factor in alpha_scale_increment_experiments: \n",
    "        print(scaling_increase_factor)\n",
    "        if alpha_inc_experiments_trained: \n",
    "            network = load_model('scaling_increment_batched_with_alpha_{inc}_trial={i}.pth'.format(inc=scaling_increase_factor, i=i), False)\n",
    "        else: \n",
    "            network, loss = train_net(500, batch_size=25, coherent=True, alpha=const_alpha, alpha_scaling=0, should_project=False,\n",
    "                                 scaling_increase_factor=scaling_increase_factor, \n",
    "                                 lr=0.001/(1 + np.log(1+scaling_increase_factor/4)), plot_loss=True)\n",
    "            save_model(network, 'scaling_increment_batched_with_alpha_{inc}_trial={i}'.format(inc=scaling_increase_factor, i=i))\n",
    "            \n",
    "        rmse, coherency, network_loss = get_metrics([network], verbose=True)\n",
    "        validation_loss = calculate_RMSE(y_val.cpu().numpy(), network(X_val.to(device)).detach().cpu().numpy())\n",
    "        metrics_increment[:, i, scaling_idx] = [rmse[0], coherency[0], network_loss[0], validation_loss]\n",
    "        networks_increment[i].append(network) \n",
    "        \n",
    "        scaling_idx += 1\n",
    "\n",
    "metrics_increment.mean(axis=1), metrics_increment.std(axis=1)"
   ]
  },
  {
   "cell_type": "code",
   "execution_count": 52,
   "metadata": {},
   "outputs": [
    {
     "name": "stdout",
     "output_type": "stream",
     "text": [
      "test\n",
      "[0.00244228 0.00243055 0.00245881 0.00246045 0.00978913 0.05857045]\n",
      "[1.43627579e-05 1.77734658e-05 1.80429249e-05 2.73092936e-05\n",
      " 3.56392777e-03 2.08437220e-03]\n",
      "validation\n",
      "[0.00186398 0.00185939 0.00187608 0.00188426 0.00963269 0.0585307 ]\n",
      "[7.83302632e-06 1.12674273e-05 1.03151108e-05 1.34956171e-05\n",
      " 3.60564485e-03 2.08518335e-03]\n",
      "coherency\n",
      "[2.96579386e-05 2.64790906e-05 3.50264374e-05 3.38511181e-05\n",
      " 6.14801352e-04 6.38845906e-04]\n"
     ]
    }
   ],
   "source": [
    "print('test')\n",
    "print(metrics_increment.mean(axis=1)[0, :])\n",
    "print(metrics_increment.std(axis=1)[0, :])\n",
    "print('validation') \n",
    "print(metrics_increment.mean(axis=1)[3, :])\n",
    "print(metrics_increment.std(axis=1)[3, :])\n",
    "print('coherency') \n",
    "print(metrics_increment.mean(axis=1)[1, :])"
   ]
  },
  {
   "cell_type": "code",
   "execution_count": 53,
   "metadata": {},
   "outputs": [
    {
     "name": "stdout",
     "output_type": "stream",
     "text": [
      "0.1\n",
      "RMSE:  0.0024289358\n",
      "Network coherency:  6.90147717250511e-05\n",
      "Last Layer Coherency Loss:  272.2029724121094\n",
      "0.5\n",
      "RMSE:  0.0024953096\n",
      "Network coherency:  0.00010145946725970134\n",
      "Last Layer Coherency Loss:  207.89576721191406\n",
      "1\n",
      "RMSE:  0.0024232902\n",
      "Network coherency:  5.120068817632273e-05\n",
      "Last Layer Coherency Loss:  189.04632568359375\n",
      "5\n",
      "RMSE:  0.0024539668\n",
      "Network coherency:  5.9286339819664136e-05\n",
      "Last Layer Coherency Loss:  158.20059204101562\n",
      "10\n",
      "RMSE:  0.0024485083\n",
      "Network coherency:  5.523706931853667e-05\n",
      "Last Layer Coherency Loss:  144.21359252929688\n",
      "50\n",
      "RMSE:  0.002839276\n",
      "Network coherency:  0.0001510406582383439\n",
      "Last Layer Coherency Loss:  108.645751953125\n",
      "0.1\n",
      "RMSE:  0.0025491898\n",
      "Network coherency:  0.00021103587641846389\n",
      "Last Layer Coherency Loss:  291.2292175292969\n",
      "0.5\n",
      "RMSE:  0.002425413\n",
      "Network coherency:  7.040808122837916e-05\n",
      "Last Layer Coherency Loss:  213.22467041015625\n",
      "1\n",
      "RMSE:  0.0024453355\n",
      "Network coherency:  6.2080733187031e-05\n",
      "Last Layer Coherency Loss:  182.7234649658203\n",
      "5\n",
      "RMSE:  0.0024523195\n",
      "Network coherency:  5.621148375212215e-05\n",
      "Last Layer Coherency Loss:  154.07766723632812\n",
      "10\n",
      "RMSE:  0.0025533095\n",
      "Network coherency:  7.821931649232283e-05\n",
      "Last Layer Coherency Loss:  144.0485382080078\n",
      "50\n",
      "RMSE:  0.002753355\n",
      "Network coherency:  0.0001921796938404441\n",
      "Last Layer Coherency Loss:  104.89093017578125\n",
      "0.1\n",
      "RMSE:  0.00245867\n",
      "Network coherency:  0.000105505452665966\n",
      "Last Layer Coherency Loss:  278.46142578125\n",
      "0.5\n",
      "RMSE:  0.0024633056\n",
      "Network coherency:  9.032624802784994e-05\n",
      "Last Layer Coherency Loss:  201.51055908203125\n",
      "1\n",
      "RMSE:  0.002481161\n",
      "Network coherency:  9.185331873595715e-05\n",
      "Last Layer Coherency Loss:  188.26898193359375\n",
      "5\n",
      "RMSE:  0.0024620518\n",
      "Network coherency:  6.423017475754023e-05\n",
      "Last Layer Coherency Loss:  156.80703735351562\n",
      "10\n",
      "RMSE:  0.00250636\n",
      "Network coherency:  7.953788008308038e-05\n",
      "Last Layer Coherency Loss:  146.20169067382812\n",
      "50\n",
      "RMSE:  0.0026611881\n",
      "Network coherency:  0.00010738406126620248\n",
      "Last Layer Coherency Loss:  116.06031036376953\n",
      "0.1\n",
      "RMSE:  0.002515634\n",
      "Network coherency:  0.0001567788131069392\n",
      "Last Layer Coherency Loss:  276.6230773925781\n",
      "0.5\n",
      "RMSE:  0.0024396952\n",
      "Network coherency:  7.155770435929298e-05\n",
      "Last Layer Coherency Loss:  197.00643920898438\n",
      "1\n",
      "RMSE:  0.0025160008\n",
      "Network coherency:  0.00010183786071138456\n",
      "Last Layer Coherency Loss:  182.48854064941406\n",
      "5\n",
      "RMSE:  0.0024429052\n",
      "Network coherency:  5.9487421822268516e-05\n",
      "Last Layer Coherency Loss:  163.62864685058594\n",
      "10\n",
      "RMSE:  0.0025243117\n",
      "Network coherency:  7.271912909345701e-05\n",
      "Last Layer Coherency Loss:  139.07205200195312\n",
      "50\n",
      "RMSE:  0.0029665225\n",
      "Network coherency:  0.00015238455671351403\n",
      "Last Layer Coherency Loss:  104.639892578125\n",
      "0.1\n",
      "RMSE:  0.002448617\n",
      "Network coherency:  9.677981870481744e-05\n",
      "Last Layer Coherency Loss:  290.2829284667969\n",
      "0.5\n",
      "RMSE:  0.0024885803\n",
      "Network coherency:  0.00011164695752086118\n",
      "Last Layer Coherency Loss:  215.294921875\n",
      "1\n",
      "RMSE:  0.0024966507\n",
      "Network coherency:  8.800464274827391e-05\n",
      "Last Layer Coherency Loss:  183.35525512695312\n",
      "5\n",
      "RMSE:  0.0024720775\n",
      "Network coherency:  6.874532118672505e-05\n",
      "Last Layer Coherency Loss:  162.04879760742188\n",
      "10\n",
      "RMSE:  0.0025843051\n",
      "Network coherency:  0.00010087163536809385\n",
      "Last Layer Coherency Loss:  150.84909057617188\n",
      "50\n",
      "RMSE:  0.002838794\n",
      "Network coherency:  0.0002018364320974797\n",
      "Last Layer Coherency Loss:  108.24943542480469\n"
     ]
    },
    {
     "data": {
      "text/plain": [
       "(array([[2.48020934e-03, 2.46246075e-03, 2.47248760e-03, 2.45666415e-03,\n",
       "         2.52335891e-03, 2.81182714e-03],\n",
       "        [1.27822947e-04, 8.90796917e-05, 7.89954487e-05, 6.15921483e-05,\n",
       "         7.73170061e-05, 1.60965080e-04],\n",
       "        [2.81759924e+02, 2.06986472e+02, 1.85176514e+02, 1.58952548e+02,\n",
       "         1.44876993e+02, 1.08497264e+02],\n",
       "        [1.89105098e-03, 1.87963480e-03, 1.88900414e-03, 1.87992547e-03,\n",
       "         1.93062203e-03, 2.21520038e-03]]),\n",
       " array([[4.49537816e-05, 2.70288304e-05, 3.37937878e-05, 9.81894513e-06,\n",
       "         4.58344210e-05, 1.01510975e-04],\n",
       "        [5.03646337e-05, 1.62464969e-05, 1.91150333e-05, 4.40057367e-06,\n",
       "         1.46234817e-05, 3.37279250e-05],\n",
       "        [7.62773534e+00, 6.90447613e+00, 2.86699964e+00, 3.47522023e+00,\n",
       "         3.80117221e+00, 4.12718054e+00],\n",
       "        [2.80842392e-05, 1.62303932e-05, 2.51545771e-05, 6.36791559e-06,\n",
       "         3.26646888e-05, 1.01397398e-04]]))"
      ]
     },
     "execution_count": 53,
     "metadata": {},
     "output_type": "execute_result"
    }
   ],
   "source": [
    "const_alpha = 0\n",
    "const_alph_scale = 0\n",
    "n_trials = 5\n",
    "alpha_inc_experiments_trained = True\n",
    "\n",
    "metrics_increment = np.zeros((4, n_trials, len(alpha_scale_increment_experiments)))\n",
    "networks_increment = [[] for i in range(n_trials)]\n",
    "\n",
    "for i in range(n_trials):  \n",
    "    scaling_idx = 0 \n",
    "    for scaling_increase_factor in alpha_scale_increment_experiments: \n",
    "        print(scaling_increase_factor)\n",
    "        if alpha_inc_experiments_trained: \n",
    "            network = load_model('scaling_increment_batched_{inc}_trial={i}.pth'.format(inc=scaling_increase_factor, i=i), False)\n",
    "        else: \n",
    "            network, loss = train_net(500, batch_size=25, coherent=True, alpha=0, alpha_scaling=0, should_project=False,\n",
    "                                 scaling_increase_factor=scaling_increase_factor, \n",
    "                                 lr=0.001/(1 + np.log(1+scaling_increase_factor/4)), plot_loss=True)\n",
    "            save_model(network, 'scaling_increment_batched_{inc}_trial={i}'.format(inc=scaling_increase_factor, i=i))\n",
    "            \n",
    "        rmse, coherency, network_loss = get_metrics([network], verbose=True)\n",
    "        validation_loss = calculate_RMSE(y_val.cpu().numpy(), network(X_val.to(device)).detach().cpu().numpy())\n",
    "        metrics_increment[:, i, scaling_idx] = [rmse[0], coherency[0], network_loss[0], validation_loss]\n",
    "        networks_increment[i].append(network) \n",
    "        \n",
    "        scaling_idx += 1\n",
    "\n",
    "metrics_increment.mean(axis=1), metrics_increment.std(axis=1)"
   ]
  },
  {
   "cell_type": "code",
   "execution_count": 54,
   "metadata": {},
   "outputs": [
    {
     "name": "stdout",
     "output_type": "stream",
     "text": [
      "test\n",
      "[0.00248021 0.00246246 0.00247249 0.00245666 0.00252336 0.00281183]\n",
      "[4.49537816e-05 2.70288304e-05 3.37937878e-05 9.81894513e-06\n",
      " 4.58344210e-05 1.01510975e-04]\n",
      "validation\n",
      "[0.00189105 0.00187963 0.001889   0.00187993 0.00193062 0.0022152 ]\n",
      "[2.80842392e-05 1.62303932e-05 2.51545771e-05 6.36791559e-06\n",
      " 3.26646888e-05 1.01397398e-04]\n",
      "coherency\n",
      "[1.27822947e-04 8.90796917e-05 7.89954487e-05 6.15921483e-05\n",
      " 7.73170061e-05 1.60965080e-04]\n"
     ]
    }
   ],
   "source": [
    "print('test')\n",
    "print(metrics_increment.mean(axis=1)[0, :])\n",
    "print(metrics_increment.std(axis=1)[0, :])\n",
    "print('validation') \n",
    "print(metrics_increment.mean(axis=1)[3, :])\n",
    "print(metrics_increment.std(axis=1)[3, :])\n",
    "print('coherency') \n",
    "print(metrics_increment.mean(axis=1)[1, :])"
   ]
  },
  {
   "cell_type": "code",
   "execution_count": 36,
   "metadata": {},
   "outputs": [
    {
     "ename": "FileNotFoundError",
     "evalue": "[Errno 2] No such file or directory: 'projection_inc_batched_0.1_trial=0.pth.pth'",
     "output_type": "error",
     "traceback": [
      "\u001b[0;31m---------------------------------------------------------------------------\u001b[0m",
      "\u001b[0;31mFileNotFoundError\u001b[0m                         Traceback (most recent call last)",
      "Cell \u001b[0;32mIn[36], line 13\u001b[0m\n\u001b[1;32m     11\u001b[0m \u001b[38;5;28;01mfor\u001b[39;00m alpha \u001b[38;5;129;01min\u001b[39;00m alpha_scale_increment_experiments: \n\u001b[1;32m     12\u001b[0m     \u001b[38;5;28;01mif\u001b[39;00m proj_inc_trained: \n\u001b[0;32m---> 13\u001b[0m         network \u001b[38;5;241m=\u001b[39m \u001b[43mload_model\u001b[49m\u001b[43m(\u001b[49m\u001b[38;5;124;43m'\u001b[39;49m\u001b[38;5;124;43mprojection_inc_batched_\u001b[39;49m\u001b[38;5;132;43;01m{inc}\u001b[39;49;00m\u001b[38;5;124;43m_trial=\u001b[39;49m\u001b[38;5;132;43;01m{i}\u001b[39;49;00m\u001b[38;5;124;43m.pth.pth\u001b[39;49m\u001b[38;5;124;43m'\u001b[39;49m\u001b[38;5;241;43m.\u001b[39;49m\u001b[43mformat\u001b[49m\u001b[43m(\u001b[49m\u001b[43minc\u001b[49m\u001b[38;5;241;43m=\u001b[39;49m\u001b[43mscaling_increase_factor\u001b[49m\u001b[43m,\u001b[49m\u001b[43m \u001b[49m\u001b[43mi\u001b[49m\u001b[38;5;241;43m=\u001b[39;49m\u001b[43mi\u001b[49m\u001b[43m)\u001b[49m\u001b[43m,\u001b[49m\u001b[43m \u001b[49m\u001b[38;5;28;43;01mTrue\u001b[39;49;00m\u001b[43m)\u001b[49m\n\u001b[1;32m     14\u001b[0m     \u001b[38;5;28;01melse\u001b[39;00m: \n\u001b[1;32m     15\u001b[0m         network, loss \u001b[38;5;241m=\u001b[39m train_net(\u001b[38;5;241m2500\u001b[39m, batch_size\u001b[38;5;241m=\u001b[39m\u001b[38;5;241m100\u001b[39m, coherent\u001b[38;5;241m=\u001b[39m\u001b[38;5;28;01mTrue\u001b[39;00m, alpha\u001b[38;5;241m=\u001b[39mconst_alpha, alpha_scaling\u001b[38;5;241m=\u001b[39mconst_alph_scale, should_project\u001b[38;5;241m=\u001b[39m\u001b[38;5;28;01mTrue\u001b[39;00m,\n\u001b[1;32m     16\u001b[0m                              scaling_increase_factor\u001b[38;5;241m=\u001b[39mscaling_increase_factor, \n\u001b[1;32m     17\u001b[0m                              lr\u001b[38;5;241m=\u001b[39m\u001b[38;5;241m0.005\u001b[39m\u001b[38;5;241m/\u001b[39m(\u001b[38;5;241m1\u001b[39m \u001b[38;5;241m+\u001b[39m np\u001b[38;5;241m.\u001b[39mlog(\u001b[38;5;241m1\u001b[39m\u001b[38;5;241m+\u001b[39mscaling_increase_factor\u001b[38;5;241m/\u001b[39m\u001b[38;5;241m4\u001b[39m)), plot_loss\u001b[38;5;241m=\u001b[39m\u001b[38;5;28;01mTrue\u001b[39;00m)\n",
      "Cell \u001b[0;32mIn[33], line 3\u001b[0m, in \u001b[0;36mload_model\u001b[0;34m(path, should_project)\u001b[0m\n\u001b[1;32m      1\u001b[0m \u001b[38;5;28;01mdef\u001b[39;00m \u001b[38;5;21mload_model\u001b[39m(path, should_project): \n\u001b[1;32m      2\u001b[0m     model \u001b[38;5;241m=\u001b[39m LstmNet(n_series, context_window, should_project\u001b[38;5;241m=\u001b[39mshould_project)\n\u001b[0;32m----> 3\u001b[0m     model\u001b[38;5;241m.\u001b[39mload_state_dict(\u001b[43mtorch\u001b[49m\u001b[38;5;241;43m.\u001b[39;49m\u001b[43mload\u001b[49m\u001b[43m(\u001b[49m\u001b[43mpath\u001b[49m\u001b[43m)\u001b[49m)\n\u001b[1;32m      4\u001b[0m     model\u001b[38;5;241m.\u001b[39mto(device)\n\u001b[1;32m      5\u001b[0m     \u001b[38;5;28;01mreturn\u001b[39;00m model\n",
      "File \u001b[0;32m/state/partition1/llgrid/pkg/anaconda/anaconda3-2022b/lib/python3.8/site-packages/torch/serialization.py:699\u001b[0m, in \u001b[0;36mload\u001b[0;34m(f, map_location, pickle_module, **pickle_load_args)\u001b[0m\n\u001b[1;32m    696\u001b[0m \u001b[38;5;28;01mif\u001b[39;00m \u001b[38;5;124m'\u001b[39m\u001b[38;5;124mencoding\u001b[39m\u001b[38;5;124m'\u001b[39m \u001b[38;5;129;01mnot\u001b[39;00m \u001b[38;5;129;01min\u001b[39;00m pickle_load_args\u001b[38;5;241m.\u001b[39mkeys():\n\u001b[1;32m    697\u001b[0m     pickle_load_args[\u001b[38;5;124m'\u001b[39m\u001b[38;5;124mencoding\u001b[39m\u001b[38;5;124m'\u001b[39m] \u001b[38;5;241m=\u001b[39m \u001b[38;5;124m'\u001b[39m\u001b[38;5;124mutf-8\u001b[39m\u001b[38;5;124m'\u001b[39m\n\u001b[0;32m--> 699\u001b[0m \u001b[38;5;28;01mwith\u001b[39;00m \u001b[43m_open_file_like\u001b[49m\u001b[43m(\u001b[49m\u001b[43mf\u001b[49m\u001b[43m,\u001b[49m\u001b[43m \u001b[49m\u001b[38;5;124;43m'\u001b[39;49m\u001b[38;5;124;43mrb\u001b[39;49m\u001b[38;5;124;43m'\u001b[39;49m\u001b[43m)\u001b[49m \u001b[38;5;28;01mas\u001b[39;00m opened_file:\n\u001b[1;32m    700\u001b[0m     \u001b[38;5;28;01mif\u001b[39;00m _is_zipfile(opened_file):\n\u001b[1;32m    701\u001b[0m         \u001b[38;5;66;03m# The zipfile reader is going to advance the current file position.\u001b[39;00m\n\u001b[1;32m    702\u001b[0m         \u001b[38;5;66;03m# If we want to actually tail call to torch.jit.load, we need to\u001b[39;00m\n\u001b[1;32m    703\u001b[0m         \u001b[38;5;66;03m# reset back to the original position.\u001b[39;00m\n\u001b[1;32m    704\u001b[0m         orig_position \u001b[38;5;241m=\u001b[39m opened_file\u001b[38;5;241m.\u001b[39mtell()\n",
      "File \u001b[0;32m/state/partition1/llgrid/pkg/anaconda/anaconda3-2022b/lib/python3.8/site-packages/torch/serialization.py:230\u001b[0m, in \u001b[0;36m_open_file_like\u001b[0;34m(name_or_buffer, mode)\u001b[0m\n\u001b[1;32m    228\u001b[0m \u001b[38;5;28;01mdef\u001b[39;00m \u001b[38;5;21m_open_file_like\u001b[39m(name_or_buffer, mode):\n\u001b[1;32m    229\u001b[0m     \u001b[38;5;28;01mif\u001b[39;00m _is_path(name_or_buffer):\n\u001b[0;32m--> 230\u001b[0m         \u001b[38;5;28;01mreturn\u001b[39;00m \u001b[43m_open_file\u001b[49m\u001b[43m(\u001b[49m\u001b[43mname_or_buffer\u001b[49m\u001b[43m,\u001b[49m\u001b[43m \u001b[49m\u001b[43mmode\u001b[49m\u001b[43m)\u001b[49m\n\u001b[1;32m    231\u001b[0m     \u001b[38;5;28;01melse\u001b[39;00m:\n\u001b[1;32m    232\u001b[0m         \u001b[38;5;28;01mif\u001b[39;00m \u001b[38;5;124m'\u001b[39m\u001b[38;5;124mw\u001b[39m\u001b[38;5;124m'\u001b[39m \u001b[38;5;129;01min\u001b[39;00m mode:\n",
      "File \u001b[0;32m/state/partition1/llgrid/pkg/anaconda/anaconda3-2022b/lib/python3.8/site-packages/torch/serialization.py:211\u001b[0m, in \u001b[0;36m_open_file.__init__\u001b[0;34m(self, name, mode)\u001b[0m\n\u001b[1;32m    210\u001b[0m \u001b[38;5;28;01mdef\u001b[39;00m \u001b[38;5;21m__init__\u001b[39m(\u001b[38;5;28mself\u001b[39m, name, mode):\n\u001b[0;32m--> 211\u001b[0m     \u001b[38;5;28msuper\u001b[39m(_open_file, \u001b[38;5;28mself\u001b[39m)\u001b[38;5;241m.\u001b[39m\u001b[38;5;21m__init__\u001b[39m(\u001b[38;5;28;43mopen\u001b[39;49m\u001b[43m(\u001b[49m\u001b[43mname\u001b[49m\u001b[43m,\u001b[49m\u001b[43m \u001b[49m\u001b[43mmode\u001b[49m\u001b[43m)\u001b[49m)\n",
      "\u001b[0;31mFileNotFoundError\u001b[0m: [Errno 2] No such file or directory: 'projection_inc_batched_0.1_trial=0.pth.pth'"
     ]
    }
   ],
   "source": [
    "const_alpha = 0\n",
    "const_alph_scale = 0\n",
    "n_trials = 5\n",
    "proj_inc_trained = True\n",
    "\n",
    "metrics_project_increment = np.zeros((4, n_trials, len(alpha_scale_increment_experiments)))\n",
    "networks_project_increment = [[] for i in range(n_trials)]\n",
    "\n",
    "for i in range(n_trials):  \n",
    "    scaling_idx = 0 \n",
    "    for alpha in alpha_scale_increment_experiments: \n",
    "        if proj_inc_trained: \n",
    "            network = load_model('projection_inc_batched_{inc}_trial={i}.pth.pth'.format(inc=scaling_increase_factor, i=i), True)\n",
    "        else: \n",
    "            network, loss = train_net(2500, batch_size=100, coherent=True, alpha=const_alpha, alpha_scaling=const_alph_scale, should_project=True,\n",
    "                                 scaling_increase_factor=scaling_increase_factor, \n",
    "                                 lr=0.005/(1 + np.log(1+scaling_increase_factor/4)), plot_loss=True)\n",
    "            save_model(network, 'projection_inc_batched_{inc}_trial={i}.pth'.format(inc=scaling_increase_factor, i=i))\n",
    "            \n",
    "        rmse, coherency, network_loss = get_metrics([network], verbose=True)\n",
    "        validation_loss = calculate_RMSE(y_val.numpy(), network(X_val.to(device)).detach().cpu().numpy())\n",
    "        metrics_project_increment[:, i, scaling_idx] = [rmse[0], coherency[0], network_loss[0], validation_loss]\n",
    "        networks_project_increment[i].append(network)\n",
    "        \n",
    "        scaling_idx += 1\n",
    "\n",
    "metrics_project_increment.mean(axis=1), metrics_project_increment.std(axis=1)"
   ]
  },
  {
   "cell_type": "code",
   "execution_count": 39,
   "metadata": {},
   "outputs": [],
   "source": [
    "alpha_experiments = [0.00001, 0.0001, 0.001, 0.01, 0.1, 1]"
   ]
  },
  {
   "cell_type": "code",
   "execution_count": 40,
   "metadata": {
    "tags": []
   },
   "outputs": [
    {
     "name": "stdout",
     "output_type": "stream",
     "text": [
      "RMSE:  0.0024118687\n",
      "Network coherency:  1.9645873180706985e-05\n",
      "Last Layer Coherency Loss:  90.32659912109375\n",
      "RMSE:  0.002424522\n",
      "Network coherency:  8.87392889126204e-06\n",
      "Last Layer Coherency Loss:  34.90675354003906\n",
      "RMSE:  0.06458228\n",
      "Network coherency:  0.002961063990369439\n",
      "Last Layer Coherency Loss:  39.402034759521484\n",
      "RMSE:  0.08790663\n",
      "Network coherency:  0.0013986353296786547\n",
      "Last Layer Coherency Loss:  32.92516326904297\n",
      "RMSE:  0.088913\n",
      "Network coherency:  0.0023632559459656477\n",
      "Last Layer Coherency Loss:  42.30485534667969\n",
      "RMSE:  0.0889752\n",
      "Network coherency:  0.002204327378422022\n",
      "Last Layer Coherency Loss:  38.24991989135742\n",
      "RMSE:  0.0024124552\n",
      "Network coherency:  2.6186375180259347e-05\n",
      "Last Layer Coherency Loss:  91.17963409423828\n",
      "RMSE:  0.0024174543\n",
      "Network coherency:  1.232714748766739e-05\n",
      "Last Layer Coherency Loss:  48.386146545410156\n",
      "RMSE:  0.06475026\n",
      "Network coherency:  0.001886898186057806\n",
      "Last Layer Coherency Loss:  23.255077362060547\n",
      "RMSE:  0.09139318\n",
      "Network coherency:  0.0016038106987252831\n",
      "Last Layer Coherency Loss:  25.87582015991211\n",
      "RMSE:  0.0914732\n",
      "Network coherency:  0.0027899467386305332\n",
      "Last Layer Coherency Loss:  40.81262969970703\n",
      "RMSE:  0.08943238\n",
      "Network coherency:  0.00213699322193861\n",
      "Last Layer Coherency Loss:  36.801780700683594\n",
      "RMSE:  0.0024448258\n",
      "Network coherency:  3.7444136978592724e-05\n",
      "Last Layer Coherency Loss:  95.69229125976562\n",
      "RMSE:  0.00240993\n",
      "Network coherency:  5.841452093591215e-06\n",
      "Last Layer Coherency Loss:  19.76422691345215\n",
      "RMSE:  0.06545278\n",
      "Network coherency:  0.0018427877221256495\n",
      "Last Layer Coherency Loss:  25.965744018554688\n",
      "RMSE:  0.08866358\n",
      "Network coherency:  0.001215403201058507\n",
      "Last Layer Coherency Loss:  28.716670989990234\n",
      "RMSE:  0.09021707\n",
      "Network coherency:  0.0026841151993721724\n",
      "Last Layer Coherency Loss:  41.54024124145508\n",
      "RMSE:  0.089263596\n",
      "Network coherency:  0.002223034156486392\n",
      "Last Layer Coherency Loss:  37.95719528198242\n",
      "RMSE:  0.002468276\n",
      "Network coherency:  4.332617754698731e-05\n",
      "Last Layer Coherency Loss:  90.63836669921875\n",
      "RMSE:  0.0024171495\n",
      "Network coherency:  8.07317246653838e-06\n",
      "Last Layer Coherency Loss:  35.319419860839844\n",
      "RMSE:  0.06433675\n",
      "Network coherency:  0.002223493065685034\n",
      "Last Layer Coherency Loss:  31.0184268951416\n",
      "RMSE:  0.088967495\n",
      "Network coherency:  0.0017161160940304399\n",
      "Last Layer Coherency Loss:  34.96699142456055\n",
      "RMSE:  0.09048831\n",
      "Network coherency:  0.0026604316662997007\n",
      "Last Layer Coherency Loss:  41.81251907348633\n",
      "RMSE:  0.08943269\n",
      "Network coherency:  0.002278710948303342\n",
      "Last Layer Coherency Loss:  41.20185470581055\n",
      "RMSE:  0.0024324257\n",
      "Network coherency:  3.104314237134531e-05\n",
      "Last Layer Coherency Loss:  92.1171875\n",
      "RMSE:  0.0024208906\n",
      "Network coherency:  1.2284004696994089e-05\n",
      "Last Layer Coherency Loss:  46.59323501586914\n",
      "RMSE:  0.063187934\n",
      "Network coherency:  0.003927925601601601\n",
      "Last Layer Coherency Loss:  33.90523147583008\n",
      "RMSE:  0.088157445\n",
      "Network coherency:  0.0013197114458307624\n",
      "Last Layer Coherency Loss:  28.90500259399414\n",
      "RMSE:  0.088807054\n",
      "Network coherency:  0.002946068299934268\n",
      "Last Layer Coherency Loss:  45.89533996582031\n",
      "RMSE:  0.09017048\n",
      "Network coherency:  0.002457000780850649\n",
      "Last Layer Coherency Loss:  38.98798751831055\n"
     ]
    },
    {
     "data": {
      "text/plain": [
       "(array([[2.43397029e-03, 2.41798931e-03, 6.44620001e-02, 8.90176654e-02,\n",
       "         8.99797261e-02, 8.94548684e-02],\n",
       "        [3.15291411e-05, 9.47994113e-06, 2.56843371e-03, 1.45073535e-03,\n",
       "         2.68876357e-03, 2.26001330e-03],\n",
       "        [9.19908157e+01, 3.69939564e+01, 3.07093029e+01, 3.02779297e+01,\n",
       "         4.24731171e+01, 3.86397476e+01],\n",
       "        [1.86164740e-03, 1.84915699e-03, 6.44288659e-02, 8.89822260e-02,\n",
       "         8.99403200e-02, 8.94160882e-02]]),\n",
       " array([[2.12061228e-05, 4.83811560e-06, 7.37310291e-04, 1.24461613e-03,\n",
       "         1.00583410e-03, 3.94909239e-04],\n",
       "        [8.29639252e-06, 2.51213885e-06, 7.88975736e-04, 1.83914055e-04,\n",
       "         1.91427937e-04, 1.08402941e-04],\n",
       "        [1.94800626e+00, 1.02562392e+01, 5.72607952e+00, 3.24641869e+00,\n",
       "         1.77785190e+00, 1.46161756e+00],\n",
       "        [1.33124272e-05, 1.63163244e-06, 7.38225864e-04, 1.24419225e-03,\n",
       "         1.00836374e-03, 3.97088181e-04]]))"
      ]
     },
     "execution_count": 40,
     "metadata": {},
     "output_type": "execute_result"
    }
   ],
   "source": [
    "const_alpha = 0\n",
    "const_alph_scale = 0\n",
    "n_trials = 5\n",
    "alpha_inc_experiments_trained = True\n",
    "\n",
    "metrics_increment = np.zeros((4, n_trials, len(alpha_experiments)))\n",
    "networks_increment = [[] for i in range(n_trials)]\n",
    "\n",
    "for i in range(n_trials):  \n",
    "    scaling_idx = 0 \n",
    "    for alpha in alpha_experiments: \n",
    "        if alpha_inc_experiments_trained: \n",
    "            network = load_model('alpha_{alpha}_trial={i}.pth'.format(alpha=alpha, i=i), False)\n",
    "        else: \n",
    "            network, loss = train_net(500, batch_size=25, coherent=True, alpha=alpha, alpha_scaling=const_alph_scale, should_project=False,\n",
    "                                 scaling_increase_factor=5, \n",
    "                                 lr=0.005/(1 + np.log(1+scaling_increase_factor/4)), plot_loss=True)\n",
    "            save_model(network, 'alpha_{alpha}_trial={i}'.format(alpha=alpha, i=i))\n",
    "            \n",
    "        rmse, coherency, network_loss = get_metrics([network], verbose=True)\n",
    "        validation_loss = calculate_RMSE(y_val.cpu().numpy(), network(X_val.to(device)).detach().cpu().numpy())\n",
    "        metrics_increment[:, i, scaling_idx] = [rmse[0], coherency[0], network_loss[0], validation_loss]\n",
    "        networks_increment[i].append(network) \n",
    "        \n",
    "        scaling_idx += 1\n",
    "\n",
    "metrics_increment.mean(axis=1), metrics_increment.std(axis=1)"
   ]
  },
  {
   "cell_type": "code",
   "execution_count": 41,
   "metadata": {},
   "outputs": [
    {
     "name": "stdout",
     "output_type": "stream",
     "text": [
      "test\n",
      "[0.00243397 0.00241799 0.064462   0.08901767 0.08997973 0.08945487]\n",
      "[2.12061228e-05 4.83811560e-06 7.37310291e-04 1.24461613e-03\n",
      " 1.00583410e-03 3.94909239e-04]\n",
      "validation\n",
      "[0.00186165 0.00184916 0.06442887 0.08898223 0.08994032 0.08941609]\n",
      "[1.33124272e-05 1.63163244e-06 7.38225864e-04 1.24419225e-03\n",
      " 1.00836374e-03 3.97088181e-04]\n",
      "coherency\n",
      "[3.15291411e-05 9.47994113e-06 2.56843371e-03 1.45073535e-03\n",
      " 2.68876357e-03 2.26001330e-03]\n"
     ]
    }
   ],
   "source": [
    "print('test')\n",
    "print(metrics_increment.mean(axis=1)[0, :])\n",
    "print(metrics_increment.std(axis=1)[0, :])\n",
    "print('validation') \n",
    "print(metrics_increment.mean(axis=1)[3, :])\n",
    "print(metrics_increment.std(axis=1)[3, :])\n",
    "print('coherency') \n",
    "print(metrics_increment.mean(axis=1)[1, :])"
   ]
  },
  {
   "cell_type": "code",
   "execution_count": null,
   "metadata": {},
   "outputs": [],
   "source": [
    "const_alpha = 0\n",
    "const_alph_scale = 0\n",
    "\n",
    "networks_scale_increment = [train_net(10000, coherent=True, alpha=const_alpha, alpha_scaling=const_alph_scale, \n",
    "                            scaling_increase_factor=scaling_increase_factor, lr=0.005/(1 + np.log(1 + scaling_increase_factor/4)), \n",
    "                                      plot_loss=True) for scaling_increase_factor in [10]]\n",
    "\n",
    "get_metrics(networks_scale_increment, verbose=True)"
   ]
  },
  {
   "cell_type": "code",
   "execution_count": null,
   "metadata": {},
   "outputs": [],
   "source": [
    "mean_rmses_if = np.mean(metrics_increment[0], axis=0)\n",
    "std_rmses_if = np.std(metrics_increment[0], axis=0)\n",
    "\n",
    "print(mean_rmses_if)\n",
    "print(std_rmses_if) \n",
    "\n",
    "mean_network_coherencies_if = np.mean(metrics_increment[1], axis=0)\n",
    "std_network_coherencies_if = np.std(metrics_increment[1], axis=0)\n",
    "\n",
    "mean_ll_losses_if = np.mean(metrics_increment[2], axis=0)\n",
    "std_ll_losses_if = 2*np.std(metrics_increment[2], axis=0)\n",
    "\n",
    "print(mean_network_coherencies_if)\n",
    "print(std_network_coherencies_if) \n",
    "\n",
    "# Calculate mean and std for baseline and projection metrics\n",
    "mean_metrics_baseline = np.mean(baseline_metrics, axis=1)\n",
    "std_metrics_baseline = 2*np.std(baseline_metrics, axis=1)\n",
    "\n",
    "mean_metrics_projection = np.mean(projection_metrics, axis=1)\n",
    "std_metrics_projection = 2*np.std(projection_metrics, axis=1)\n",
    "\n",
    "print(mean_metrics_baseline)\n",
    "print(std_metrics_baseline)\n",
    "print(mean_metrics_projection)\n",
    "print(std_metrics_projection) \n",
    "\n",
    "# Plotting\n",
    "fig, (ax1, ax2, ax3) = plt.subplots(3, 1, figsize=(6, 10))\n",
    "\n",
    "# RMSE plot with error bars\n",
    "ax1.set_title('RMSE vs alpha scaling increment')\n",
    "ax1.errorbar(alpha_scale_increment_experiments, mean_rmses_if, yerr=std_rmses_if, fmt='o', label='Incremental')\n",
    "ax1.axhline(mean_metrics_baseline[0], color='red', label='Baseline', linestyle='--')\n",
    "ax1.axhline(mean_metrics_projection[0], color='blue', label='Projection', linestyle='--')\n",
    "ax1.fill_between([min(alpha_scale_increment_experiments), max(alpha_scale_increment_experiments)], mean_metrics_baseline[0]-std_metrics_baseline[0], mean_metrics_baseline[0]+std_metrics_baseline[0], color='red', alpha=0.2)\n",
    "ax1.fill_between([min(alpha_scale_increment_experiments), max(alpha_scale_increment_experiments)], mean_metrics_projection[0]-std_metrics_projection[0], mean_metrics_projection[0]+std_metrics_projection[0], color='blue', alpha=0.2)\n",
    "ax1.set_ylabel('RMSE')\n",
    "ax1.set_xlabel('Alpha')\n",
    "ax1.legend()\n",
    "\n",
    "# Network coherency plot with error bars\n",
    "ax2.set_title('Coherency on data vs alpha, incremental')\n",
    "ax2.errorbar(alpha_scale_increment_experiments, mean_network_coherencies_if, yerr=std_network_coherencies_if, fmt='o')\n",
    "ax2.set_ylabel('Coherency on data')\n",
    "ax2.set_xlabel('Alpha')\n",
    "\n",
    "# Last layer coherency plot with error bars\n",
    "ax3.errorbar(alpha_scale_increment_experiments, mean_ll_losses_if, yerr=std_ll_losses_if, fmt='o')\n",
    "ax3.set_ylabel('Last layer coherency')\n",
    "ax3.set_xlabel('Alpha')\n",
    "\n",
    "plt.tight_layout()\n",
    "plt.show()"
   ]
  },
  {
   "cell_type": "code",
   "execution_count": null,
   "metadata": {},
   "outputs": [],
   "source": [
    "const_alpha = 0\n",
    "const_alph_scale = 0\n",
    "\n",
    "networks_project = [train_net(6000, coherent=True, alpha=0, alpha_scaling=0, should_project=True, plot_loss=True,\n",
    "                            scaling_increase_factor=scaling_increase_factor, lr=0.005/(1 + np.log(1+scaling_increase_factor/4))) for scaling_increase_factor in alpha_scale_increment_experiments]\n",
    "\n",
    "get_metrics(networks_project, verbose=True)"
   ]
  },
  {
   "cell_type": "code",
   "execution_count": null,
   "metadata": {},
   "outputs": [],
   "source": [
    "fig, (ax1, ax2, ax3) = plt.subplots(3, 1, figsize=(6, 10))\n",
    "ax1.set_title('metrics vs alpha scaling increment with projection')\n",
    "ax1.scatter(alpha_scale_experiments, rmses_if)\n",
    "ax1.axhline(rmse_baseline, color='red', label='baseline')\n",
    "ax1.axhline(rmse_projection, color='green', label='projection')\n",
    "ax1.set_ylabel('rmse')\n",
    "ax1.set_xlabel('alpha')\n",
    "ax1.legend()\n",
    "#ax2.set_title('coherency on data vs alpha, no scaling and no scaling increment')\n",
    "ax2.scatter(alpha_scale_experiments, network_coherencies_if)\n",
    "ax2.set_ylabel('coherency on data')\n",
    "ax2.set_xlabel('alpha')\n",
    "#ax3.set_title('last layer coherency vs alpha, no scaling and no scaling increment')\n",
    "ax3.scatter(alpha_scale_experiments, ll_losses_if)\n",
    "ax3.set_ylabel('last layer coherency')\n",
    "ax3.set_xlabel('alpha')\n",
    "plt.show()"
   ]
  },
  {
   "cell_type": "code",
   "execution_count": null,
   "metadata": {},
   "outputs": [],
   "source": [
    "#network, losses = train_net(1000, coherent=False) \n",
    "#network_coherent, losses_coherent = train_net(1000, coherent=True, alpha=0)\n",
    "#network_coherent_high_scaling, losses_coherent_high_scaling = train_net(1000, coherent=True, alpha=0.25, alpha_scaling=1)\n",
    "network_projection, losses_projection = train_net(5000, should_project=True)\n",
    "#network_coherent_and_projecting, losses_projection_high_scaling = train_net(1000, coherent=True, alpha=0.5, alpha_scaling=1, should_project=True)"
   ]
  },
  {
   "cell_type": "code",
   "execution_count": null,
   "metadata": {},
   "outputs": [],
   "source": [
    "plt.plot(range(len(losses_projection[100:])), losses_projection[100:], label='projection')\n",
    "plt.xlabel('epoch')\n",
    "plt.ylabel('loss')\n",
    "plt.legend()\n",
    "plt.show()\n",
    "plt.figure()\n",
    "#plt.plot(range(len(losses_coherent[101:])), losses_coherent[101:], label='coherent')\n",
    "#plt.plot(range(len(losses_coherent_high_scaling[101:])), losses_coherent_high_scaling[101:], label='high scaling')\n",
    "#plt.legend() "
   ]
  },
  {
   "cell_type": "code",
   "execution_count": null,
   "metadata": {},
   "outputs": [],
   "source": [
    "rmse_projection = calculate_mean_RMSE(network_projection)\n",
    "rmse_projection"
   ]
  },
  {
   "cell_type": "code",
   "execution_count": null,
   "metadata": {},
   "outputs": [],
   "source": [
    "rmse_projection = 0.0032 "
   ]
  },
  {
   "cell_type": "code",
   "execution_count": null,
   "metadata": {},
   "outputs": [],
   "source": [
    "network_baseline, losses_baseline = train_net(2000, coherent=False)"
   ]
  },
  {
   "cell_type": "code",
   "execution_count": null,
   "metadata": {},
   "outputs": [],
   "source": [
    "rmse_baseline = calculate_mean_RMSE(network_baseline)\n",
    "rmse_baseline"
   ]
  },
  {
   "cell_type": "code",
   "execution_count": null,
   "metadata": {},
   "outputs": [],
   "source": [
    "fig, axs = plt.subplots(3, 3, figsize=(18, 10))\n",
    "fig.suptitle('Labour Dataset')\n",
    "\n",
    "# First Set of Data\n",
    "axs[0, 0].set_title('Alpha Experiments (No Scaling and No Scaling Increment)')\n",
    "axs[0, 0].scatter(alpha_experiments, rmses)\n",
    "axs[0, 0].set_ylabel('rmse')\n",
    "axs[0, 0].set_xlabel('alpha')\n",
    "axs[0, 0].axhline(rmse_baseline, color='red', label='baseline')\n",
    "axs[0, 0].axhline(rmse_projection, color='green', label='projection')\n",
    "axs[0, 0].legend()\n",
    "\n",
    "axs[1, 0].scatter(alpha_experiments, network_coherencies)\n",
    "axs[1, 0].set_ylabel('coherency on data')\n",
    "axs[1, 0].set_xlabel('alpha')\n",
    "axs[1, 0].axhline(network_coherency_baseline, color='red', label='baseline')\n",
    "axs[1, 0].legend()\n",
    "\n",
    "axs[2, 0].scatter(alpha_experiments, ll_losses)\n",
    "axs[2, 0].set_ylabel('last layer coherency')\n",
    "axs[2, 0].set_xlabel('alpha')\n",
    "\n",
    "# Second Set of Data\n",
    "axs[0, 1].set_title('Alpha Scaling Experiments (Constant alpha = 0)')\n",
    "axs[0, 1].scatter(alpha_scale_experiments, rmses_s)\n",
    "axs[0, 1].axhline(rmse_baseline, color='red', label='baseline')\n",
    "axs[0, 1].axhline(rmse_projection, color='green', label='projection')\n",
    "axs[0, 1].set_ylabel('rmse')\n",
    "axs[0, 1].set_xlabel('alpha scaling')\n",
    "axs[0, 1].legend()\n",
    "\n",
    "axs[1, 1].scatter(alpha_scale_experiments, network_coherencies_s)\n",
    "axs[1, 1].set_ylabel('coherency on data')\n",
    "axs[1, 1].set_xlabel('alpha scaling')\n",
    "axs[1, 1].axhline(network_coherency_baseline, color='red', label='baseline')\n",
    "axs[1, 1].legend()\n",
    "\n",
    "axs[2, 1].scatter(alpha_scale_experiments, ll_losses_s)\n",
    "axs[2, 1].set_ylabel('last layer coherency')\n",
    "axs[2, 1].set_xlabel('alpha scaling')\n",
    "\n",
    "# Third Set of Data\n",
    "axs[0, 2].set_title('Scaling Increment Experiments (Constant alpha = 0, scaling = 0)')\n",
    "axs[0, 2].scatter(alpha_scale_increment_experiments, rmses_if)\n",
    "axs[0, 2].axhline(rmse_baseline, color='red', label='baseline')\n",
    "axs[0, 2].axhline(rmse_projection, color='green', label='projection')\n",
    "axs[0, 2].set_ylabel('rmse')\n",
    "axs[0, 2].set_xlabel('alpha increment')\n",
    "axs[0, 2].legend()\n",
    "\n",
    "axs[1, 2].scatter(alpha_scale_increment_experiments, network_coherencies_if)\n",
    "axs[1, 2].set_ylabel('coherency on data')\n",
    "axs[1, 2].set_xlabel('alpha increment')\n",
    "axs[1, 2].axhline(network_coherency_baseline, color='red', label='baseline')\n",
    "axs[1, 2].legend()\n",
    "\n",
    "axs[2, 2].scatter(alpha_scale_increment_experiments, ll_losses_if)\n",
    "axs[2, 2].set_ylabel('last layer coherency')\n",
    "axs[2, 2].set_xlabel('alpha increment')\n",
    "\n",
    "axs[0,0].set_xscale('log')\n",
    "axs[0,1].set_xscale('log')\n",
    "axs[0,2].set_xscale('log')\n",
    "axs[1,0].set_xscale('log')\n",
    "axs[1,1].set_xscale('log')\n",
    "axs[1,2].set_xscale('log')\n",
    "axs[2,0].set_xscale('log')\n",
    "axs[2,1].set_xscale('log')\n",
    "axs[2,2].set_xscale('log')\n",
    "\n",
    "plt.tight_layout()\n",
    "plt.savefig('parameter_experiments_traffic.png')\n",
    "plt.show()"
   ]
  },
  {
   "cell_type": "code",
   "execution_count": null,
   "metadata": {},
   "outputs": [],
   "source": [
    "const_alpha = 0\n",
    "const_alph_scale = 0\n",
    "\n",
    "networks_increment_scaled = [train_net(4000, coherent=True, alpha=0, alpha_scaling=0, should_project=True,\n",
    "                            scaling_increase_factor=scaling_increase_factor + 0.1, lr=0.005/(1 + np.log(1+scaling_increase_factor))) for scaling_increase_factor in alpha_scale_experiments]\n",
    "\n",
    "get_metrics(networks_increment_scaled, verbose=True)"
   ]
  },
  {
   "cell_type": "code",
   "execution_count": null,
   "metadata": {},
   "outputs": [],
   "source": [
    "# TODO: implement a function that chooses alpha based on the best training data and hopefully show that the selected alpha also performs well on test data\n",
    "\n",
    "def test_best_alpha(networks):\n",
    "\n",
    "    train_rmses = [] \n",
    "    test_rmses = [] \n",
    "\n",
    "    for network, _ in networks: \n",
    "\n",
    "        network.lstm.eval() \n",
    "        train_rmse = calculate_RMSE(y_val.numpy(), network(X_val.to(device)).detach().cpu().numpy())\n",
    "        test_rmse = calculate_RMSE(y_test.numpy(), network(X_test.to(device)).detach().cpu().numpy())\n",
    "\n",
    "        train_rmses.append(train_rmse)\n",
    "        test_rmses.append(test_rmse)\n",
    "\n",
    "    return train_rmses, test_rmses"
   ]
  },
  {
   "cell_type": "code",
   "execution_count": null,
   "metadata": {},
   "outputs": [],
   "source": [
    "train_rmses, test_rmses = test_best_alpha(networks_scale_increment)\n",
    "#train_rmses_scaled, test_rmses_scaled = test_best_alpha(networks_increment_scaled)\n",
    "# Create a scatter plot\n",
    "plt.figure(figsize=(8, 6))  # Adjust the figure size as needed\n",
    "plt.scatter(train_rmses, test_rmses)\n",
    "\n",
    "plt.axhline(rmse_projection, color='green', label='projection')\n",
    "plt.axhline(rmse_baseline, color='red', label='baseline')\n",
    "\n",
    "# Annotate each point with its label\n",
    "for i, label in enumerate(alpha_scale_increment_experiments):\n",
    "    plt.annotate(label, (train_rmses[i], test_rmses[i]), textcoords=\"offset points\", xytext=(0, 5), ha='center')\n",
    "\n",
    "# Customize the plot\n",
    "plt.title('Test RMSE vs. Validation RMSE. Labels are Alpha Scaling Increment Values')\n",
    "plt.xlabel('Validation RMSE')\n",
    "plt.ylabel('Test RMSE')\n",
    "\n",
    "# # Set custom axis limits\n",
    "# plt.xlim(0.0010, 0.0013)\n",
    "# plt.ylim(0.004, 0.0055)\n",
    "\n",
    "# Show the plot\n",
    "plt.legend() \n",
    "plt.savefig('val_traffic.png')\n",
    "plt.show()"
   ]
  },
  {
   "cell_type": "code",
   "execution_count": null,
   "metadata": {},
   "outputs": [],
   "source": [
    "test_best_alpha(networks)"
   ]
  },
  {
   "cell_type": "code",
   "execution_count": null,
   "metadata": {},
   "outputs": [],
   "source": [
    "# plot losses for learning\n",
    "#plt.plot(range(len(losses[100:])), losses[100:], label='base')\n",
    "plt.plot(range(len(losses_projection[100:1000])), losses_projection_high_scaling[100:1000], label='projection')\n",
    "plt.legend()\n",
    "plt.show()\n",
    "plt.figure()\n",
    "plt.plot(range(len(losses_coherent[101:])), losses_coherent[101:], label='coherent')\n",
    "plt.plot(range(len(losses_coherent_high_scaling[101:])), losses_coherent_high_scaling[101:], label='high scaling')\n",
    "plt.legend() "
   ]
  },
  {
   "cell_type": "code",
   "execution_count": null,
   "metadata": {},
   "outputs": [],
   "source": [
    "# printing the real coherency of each network we trained\n",
    "print(\"baseline network coherency\", coherency_metric(network(X_test)).item())\n",
    "print(\"coherent network coherency\", coherency_metric(network_coherent(X_test)).item())\n",
    "print(\"coherent network coherency (high scaling)\", coherency_metric(network_coherent_high_scaling(X_test)).item())\n",
    "#print(\"projection network coherency\", coherency_metric(network_projection(X_test)).item())\n",
    "#print(\"both coherency\", coherency_metric(network_coherent_and_projecting(X_test)).item())"
   ]
  },
  {
   "cell_type": "code",
   "execution_count": null,
   "metadata": {},
   "outputs": [],
   "source": [
    "n_iters = 20\n",
    "\n",
    "def calculate_mean_RMSE(network, n_iters=n_iters): \n",
    "    errs = np.zeros((n_iters, )) \n",
    "    for i in range(n_iters): \n",
    "        errs[i] = calculate_RMSE(y_test.numpy(), network(X_test).detach().numpy())\n",
    "    return np.mean(errs)\n",
    "\n",
    "print(\"RMSE Baseline:\", calculate_mean_RMSE(network))\n",
    "print(\"RMSE Coherent:\", calculate_mean_RMSE(network_coherent))\n",
    "print(\"RMSE Coherent (high scaling):\", calculate_mean_RMSE(network_coherent_high_scaling))\n",
    "print(\"RMSE Projection:\", calculate_mean_RMSE(network_projection))\n",
    "print(\"RMSE Both:\", calculate_mean_RMSE(network_coherent_and_projecting))"
   ]
  },
  {
   "cell_type": "code",
   "execution_count": null,
   "metadata": {},
   "outputs": [],
   "source": [
    "print(\"WMAPE Baseline:\", calculate_wmape(y_test.numpy(), network(X_test).detach().numpy()))\n",
    "print(\"WMAPE Coherent:\", calculate_wmape(y_test.numpy(), network_coherent(X_test).detach().numpy()))\n",
    "print(\"WMAPE Coherent (high scaling):\", calculate_wmape(y_test.numpy(), network_coherent_high_scaling(X_test).detach().numpy()))\n",
    "print(\"WMAPE Projection:\", calculate_wmape(y_test.numpy(), network_projection(X_test).detach().numpy()))\n",
    "print(\"WMAPE Both:\", calculate_wmape(y_test.numpy(), network_coherent_and_projecting(X_test).detach().numpy()))"
   ]
  },
  {
   "cell_type": "code",
   "execution_count": null,
   "metadata": {},
   "outputs": [],
   "source": [
    "print(\"Last Layer Coherency Loss Baseline:\", coherency_loss(network).item())\n",
    "print(\"Last Layer Coherency Loss Coherent:\", coherency_loss(network_coherent).item())\n",
    "print(\"Last Layer Coherency Loss Coherent (high scaling):\", coherency_loss(network_coherent_high_scaling).item())\n",
    "print(\"Last Layer Coherency Loss Projection:\", coherency_loss(network_projection).item())\n",
    "print(\"Last Layer Coherency Loss Both:\", coherency_loss(network_coherent_and_projecting).item())"
   ]
  },
  {
   "cell_type": "markdown",
   "metadata": {},
   "source": [
    "## Least Squares Loss"
   ]
  },
  {
   "cell_type": "code",
   "execution_count": null,
   "metadata": {},
   "outputs": [],
   "source": [
    "# training 'least squares loss' networks \n",
    "network_ls, loss_ls = train_net(500, least_squares=True, alpha=0.5, alpha_scaling=1)\n",
    "network_ls_high_scaling, loss_ls_high_scaling = train_net(500, least_squares=True, alpha=0.5, alpha_scaling=5)"
   ]
  },
  {
   "cell_type": "code",
   "execution_count": null,
   "metadata": {},
   "outputs": [],
   "source": [
    "# printing the real coherency of each network we trained\n",
    "print(\"MSE_loss network coherency\", coherency_metric(network_ls(X_test)).item())\n",
    "print(\"MSE_loss high scaling network coherency\", coherency_metric(network_ls_high_scaling(X_test)).item())\n",
    "print(\"MSE_loss and project coherency\", coherency_metric(network_ls_and_project(X_test)).item())"
   ]
  },
  {
   "cell_type": "code",
   "execution_count": null,
   "metadata": {},
   "outputs": [],
   "source": [
    "# printing the real coherency of each network we trained\n",
    "print(\"baseline network RMSE\", calculate_RMSE(y_test.numpy(), network_ls(X_test).detach().numpy()))\n",
    "print(\"coherent network RMSE\", calculate_RMSE(y_test.numpy(), network_ls_high_scaling(X_test).detach().numpy()))\n",
    "print(\"coherent network coherency (high scaling) RMSE\", calculate_RMSE(y_test.numpy(), network_ls_and_project(X_test).detach().numpy()))"
   ]
  },
  {
   "cell_type": "code",
   "execution_count": null,
   "metadata": {},
   "outputs": [],
   "source": [
    "print(\"Last Layer Coherency Loss Coherent:\", coherency_loss(network_ls).item())\n",
    "print(\"Last Layer Coherency Loss Coherent (high scaling):\", coherency_loss(network_ls_high_scaling).item())\n",
    "print(\"Last Layer Coherency Loss Projection:\", coherency_loss(network_projection).item())"
   ]
  },
  {
   "cell_type": "code",
   "execution_count": null,
   "metadata": {},
   "outputs": [],
   "source": [
    "visualize(0, [network, network_coherent, network_projection], ['baseline', 'coherent loss', 'projection'])"
   ]
  },
  {
   "cell_type": "code",
   "execution_count": null,
   "metadata": {},
   "outputs": [],
   "source": [
    "all_agg_levels = np.unique([torch.sum(aggregation_mat[ts,:]).item() for ts in range(len(aggregation_mat))])"
   ]
  },
  {
   "cell_type": "code",
   "execution_count": null,
   "metadata": {},
   "outputs": [],
   "source": [
    "all_agg_levels"
   ]
  },
  {
   "cell_type": "code",
   "execution_count": null,
   "metadata": {},
   "outputs": [],
   "source": [
    "# this code plots the error \n",
    "\n",
    "aggregation_level = all_agg_levels[0]\n",
    "aggregation_amounts = []\n",
    "errs_baseline = [] \n",
    "errs_coherent = []\n",
    "for ts in range(len(aggregation_mat)):\n",
    "    agg_level = torch.sum(aggregation_mat[ts,:]).item()\n",
    "    if agg_level == aggregation_level: \n",
    "        err_baseline = torch.norm(network(X_test)[:,ts] - y_test[:,ts]).item() / len(X_test)\n",
    "        err_coherent = torch.norm(network_coherent(X_test)[:,ts] - y_test[:,ts]).item() / len(X_test)\n",
    "\n",
    "        aggregation_amounts.append(agg_level)\n",
    "        errs_baseline.append(err_baseline)\n",
    "        errs_coherent.append(err_coherent)\n",
    "\n",
    "plt.hist([errs_baseline, errs_coherent], label = ['projection', 'coherent'])\n",
    "\n",
    "print(\"Baseline:\", np.mean(errs_baseline))\n",
    "print(\"Coherent:\", np.mean(errs_coherent))\n",
    "\n",
    "plt.xlabel('|y_pred - y|/N')\n",
    "plt.legend()"
   ]
  },
  {
   "cell_type": "code",
   "execution_count": null,
   "metadata": {},
   "outputs": [],
   "source": []
  },
  {
   "cell_type": "code",
   "execution_count": null,
   "metadata": {},
   "outputs": [],
   "source": []
  }
 ],
 "metadata": {
  "kernelspec": {
   "display_name": "Python 3 (ipykernel)",
   "language": "python",
   "name": "python3"
  },
  "language_info": {
   "codemirror_mode": {
    "name": "ipython",
    "version": 3
   },
   "file_extension": ".py",
   "mimetype": "text/x-python",
   "name": "python",
   "nbconvert_exporter": "python",
   "pygments_lexer": "ipython3",
   "version": "3.8.15"
  },
  "vscode": {
   "interpreter": {
    "hash": "bd385fe162c5ca0c84973b7dd5c518456272446b2b64e67c2a69f949ca7a1754"
   }
  }
 },
 "nbformat": 4,
 "nbformat_minor": 4
}
